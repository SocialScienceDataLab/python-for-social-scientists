{
  "nbformat": 4,
  "nbformat_minor": 0,
  "metadata": {
    "colab": {
      "provenance": [],
      "toc_visible": true,
      "authorship_tag": "ABX9TyPrSf1SeZ9BMWAFDr/bjP+v",
      "include_colab_link": true
    },
    "kernelspec": {
      "name": "python3",
      "display_name": "Python 3"
    },
    "language_info": {
      "name": "python"
    }
  },
  "cells": [
    {
      "cell_type": "markdown",
      "metadata": {
        "id": "view-in-github",
        "colab_type": "text"
      },
      "source": [
        "<a href=\"https://colab.research.google.com/github/andreaskuepfer/python-for-social-scientists/blob/main/Day%202/day_2_python_for_social_scientists_SSDL.ipynb\" target=\"_parent\"><img src=\"https://colab.research.google.com/assets/colab-badge.svg\" alt=\"Open In Colab\"/></a>"
      ]
    },
    {
      "cell_type": "markdown",
      "source": [
        "## Workshop Day 2: Python for Social Scientists\n",
        "\n",
        "##### **Social Science Data Lab**\n",
        "##### **MZES, University of Mannheim**\n",
        "##### **February 22, 2023**\n",
        "\n",
        "##### *Andreas Küpfer and Ruben Bach*"
      ],
      "metadata": {
        "id": "r7LURDLRls9X"
      }
    },
    {
      "cell_type": "markdown",
      "source": [
        "Today we want to work with the wage dataset from the *1985 Current Population Survey*. More information on the dataset can be found [here](https://www.openml.org/search?type=data&sort=runs&id=534&status=active).\n",
        "\n",
        "This workshop is divided into four sections:\n",
        "\n",
        "1. First, we will to load our dataset into Python and take a look at its specifics.\n",
        "2. Second, we are going to apply a logistic regression model based on the machine learning library `scikit-learn` for Python.\n",
        "3. Third, we stick to `scikit-learn` but work with a random forest model.\n",
        "4. Last but not least we wrap everything up with a short conclusion including an interpretation of the applied models and what further steps could be applied now."
      ],
      "metadata": {
        "id": "g1RFUSgrl2VA"
      }
    },
    {
      "cell_type": "markdown",
      "source": [
        "### 1 Load the Dataset & Explore the Data"
      ],
      "metadata": {
        "id": "XKxZk_dhnLO5"
      }
    },
    {
      "cell_type": "markdown",
      "source": [
        "The following packages are all we need for this workshop:\n",
        "\n",
        "* `pandas` (https://pandas.pydata.org/docs/)\n",
        "* `matplotlib` (https://matplotlib.org/)\n",
        "* `sklearn` (https://scikit-learn.org/stable/)\n",
        "* `seaborn`: (https://seaborn.pydata.org/)\n",
        "\n",
        "They can be automatically installed (if not available) using the package manager pip and the following code chunk:"
      ],
      "metadata": {
        "id": "jD7aLCHxop5U"
      }
    },
    {
      "cell_type": "code",
      "source": [
        "import importlib.util\n",
        "import os\n",
        "\n",
        "# Check for missing packages\n",
        "def check_pkg(package):\n",
        "  if importlib.util.find_spec(package):\n",
        "    return(f\"{package} already in sys.modules\")\n",
        "  else:\n",
        "    os.system(\"pip install {0}\".format(package))\n",
        "    return(f\"{package} installed.\")\n",
        "\n",
        "packages = [\"pandas\", \"matplotlib\", \"sklearn\", \"seaborn\"]\n",
        "[check_pkg(package) for package in packages]"
      ],
      "metadata": {
        "colab": {
          "base_uri": "https://localhost:8080/"
        },
        "id": "oZaeDGX_jEmQ",
        "outputId": "0081ee19-161c-4fcf-e881-4149058ec335"
      },
      "execution_count": null,
      "outputs": [
        {
          "output_type": "execute_result",
          "data": {
            "text/plain": [
              "['pandas already in sys.modules',\n",
              " 'matplotlib already in sys.modules',\n",
              " 'sklearn already in sys.modules',\n",
              " 'seaborn already in sys.modules',\n",
              " 'treeinterpreter installed.']"
            ]
          },
          "metadata": {},
          "execution_count": 30
        }
      ]
    },
    {
      "cell_type": "code",
      "source": [
        "# Import needed functionalities\n",
        "from sklearn.datasets import fetch_openml\n",
        "# Alternative to import all functions from a package:\n",
        "# import sklearn\n",
        "\n",
        "# Call fetch_open function to fetch dataset\n",
        "# Current Population Survey (CPS) from 1985 (random sample of 534 persons)\n",
        "wages_survey_raw = fetch_openml(data_id=534, as_frame=True)\n",
        "\n",
        "# A brief overview over all variables in the dataset:\n",
        "# WAGE: Wage (dollars per hour).\n",
        "# AGE: Age (years).\n",
        "# RACE: Race (1=Other, 2=Hispanic, 3=White).\n",
        "# EDUCATION: Number of years of education.\n",
        "# SOUTH: Indicator variable for Southern Region (1=Person lives in South, 0=Person lives elsewhere).\n",
        "# SEX: Indicator variable for sex (1=Female, 0=Male). EXPERIENCE: Number of years of work experience.\n",
        "# UNION: Indicator variable for union membership (1=Union member, 0=Not union member).\n",
        "# OCCUPATION: Occupational category (1=Management, 2=Sales, 3=Clerical, 4=Service, 5=Professional, 6=Other).\n",
        "# SECTOR: Sector (0=Other, 1=Manufacturing, 2=Construction).\n",
        "# MARR: Marital Status (0=Unmarried, 1=Married)"
      ],
      "metadata": {
        "id": "QYAnwUE4jZrB"
      },
      "execution_count": null,
      "outputs": []
    },
    {
      "cell_type": "code",
      "source": [
        "# Bring the predictors of the dataset into a suitable format (datframe)\n",
        "wages_survey_X = wages_survey_raw.data[wages_survey_raw.feature_names]\n",
        "# Ask Python for some descriptive statistics of the predictors\n",
        "wages_survey_X.describe(include=\"all\")"
      ],
      "metadata": {
        "colab": {
          "base_uri": "https://localhost:8080/",
          "height": 394
        },
        "id": "_IP1ZCPrN_rC",
        "outputId": "e723d76a-95bc-4481-ce9c-c8e451ff66c8"
      },
      "execution_count": null,
      "outputs": [
        {
          "output_type": "execute_result",
          "data": {
            "text/plain": [
              "         EDUCATION SOUTH   SEX  EXPERIENCE       UNION         AGE   RACE  \\\n",
              "count   534.000000   534   534  534.000000         534  534.000000    534   \n",
              "unique         NaN     2     2         NaN           2         NaN      3   \n",
              "top            NaN    no  male         NaN  not_member         NaN  White   \n",
              "freq           NaN   378   289         NaN         438         NaN    440   \n",
              "mean     13.018727   NaN   NaN   17.822097         NaN   36.833333    NaN   \n",
              "std       2.615373   NaN   NaN   12.379710         NaN   11.726573    NaN   \n",
              "min       2.000000   NaN   NaN    0.000000         NaN   18.000000    NaN   \n",
              "25%      12.000000   NaN   NaN    8.000000         NaN   28.000000    NaN   \n",
              "50%      12.000000   NaN   NaN   15.000000         NaN   35.000000    NaN   \n",
              "75%      15.000000   NaN   NaN   26.000000         NaN   44.000000    NaN   \n",
              "max      18.000000   NaN   NaN   55.000000         NaN   64.000000    NaN   \n",
              "\n",
              "       OCCUPATION SECTOR     MARR  \n",
              "count         534    534      534  \n",
              "unique          6      3        2  \n",
              "top         Other  Other  Married  \n",
              "freq          156    411      350  \n",
              "mean          NaN    NaN      NaN  \n",
              "std           NaN    NaN      NaN  \n",
              "min           NaN    NaN      NaN  \n",
              "25%           NaN    NaN      NaN  \n",
              "50%           NaN    NaN      NaN  \n",
              "75%           NaN    NaN      NaN  \n",
              "max           NaN    NaN      NaN  "
            ],
            "text/html": [
              "\n",
              "  <div id=\"df-1bce49c5-6e1d-46d6-9f53-9ccbffcc0a6f\">\n",
              "    <div class=\"colab-df-container\">\n",
              "      <div>\n",
              "<style scoped>\n",
              "    .dataframe tbody tr th:only-of-type {\n",
              "        vertical-align: middle;\n",
              "    }\n",
              "\n",
              "    .dataframe tbody tr th {\n",
              "        vertical-align: top;\n",
              "    }\n",
              "\n",
              "    .dataframe thead th {\n",
              "        text-align: right;\n",
              "    }\n",
              "</style>\n",
              "<table border=\"1\" class=\"dataframe\">\n",
              "  <thead>\n",
              "    <tr style=\"text-align: right;\">\n",
              "      <th></th>\n",
              "      <th>EDUCATION</th>\n",
              "      <th>SOUTH</th>\n",
              "      <th>SEX</th>\n",
              "      <th>EXPERIENCE</th>\n",
              "      <th>UNION</th>\n",
              "      <th>AGE</th>\n",
              "      <th>RACE</th>\n",
              "      <th>OCCUPATION</th>\n",
              "      <th>SECTOR</th>\n",
              "      <th>MARR</th>\n",
              "    </tr>\n",
              "  </thead>\n",
              "  <tbody>\n",
              "    <tr>\n",
              "      <th>count</th>\n",
              "      <td>534.000000</td>\n",
              "      <td>534</td>\n",
              "      <td>534</td>\n",
              "      <td>534.000000</td>\n",
              "      <td>534</td>\n",
              "      <td>534.000000</td>\n",
              "      <td>534</td>\n",
              "      <td>534</td>\n",
              "      <td>534</td>\n",
              "      <td>534</td>\n",
              "    </tr>\n",
              "    <tr>\n",
              "      <th>unique</th>\n",
              "      <td>NaN</td>\n",
              "      <td>2</td>\n",
              "      <td>2</td>\n",
              "      <td>NaN</td>\n",
              "      <td>2</td>\n",
              "      <td>NaN</td>\n",
              "      <td>3</td>\n",
              "      <td>6</td>\n",
              "      <td>3</td>\n",
              "      <td>2</td>\n",
              "    </tr>\n",
              "    <tr>\n",
              "      <th>top</th>\n",
              "      <td>NaN</td>\n",
              "      <td>no</td>\n",
              "      <td>male</td>\n",
              "      <td>NaN</td>\n",
              "      <td>not_member</td>\n",
              "      <td>NaN</td>\n",
              "      <td>White</td>\n",
              "      <td>Other</td>\n",
              "      <td>Other</td>\n",
              "      <td>Married</td>\n",
              "    </tr>\n",
              "    <tr>\n",
              "      <th>freq</th>\n",
              "      <td>NaN</td>\n",
              "      <td>378</td>\n",
              "      <td>289</td>\n",
              "      <td>NaN</td>\n",
              "      <td>438</td>\n",
              "      <td>NaN</td>\n",
              "      <td>440</td>\n",
              "      <td>156</td>\n",
              "      <td>411</td>\n",
              "      <td>350</td>\n",
              "    </tr>\n",
              "    <tr>\n",
              "      <th>mean</th>\n",
              "      <td>13.018727</td>\n",
              "      <td>NaN</td>\n",
              "      <td>NaN</td>\n",
              "      <td>17.822097</td>\n",
              "      <td>NaN</td>\n",
              "      <td>36.833333</td>\n",
              "      <td>NaN</td>\n",
              "      <td>NaN</td>\n",
              "      <td>NaN</td>\n",
              "      <td>NaN</td>\n",
              "    </tr>\n",
              "    <tr>\n",
              "      <th>std</th>\n",
              "      <td>2.615373</td>\n",
              "      <td>NaN</td>\n",
              "      <td>NaN</td>\n",
              "      <td>12.379710</td>\n",
              "      <td>NaN</td>\n",
              "      <td>11.726573</td>\n",
              "      <td>NaN</td>\n",
              "      <td>NaN</td>\n",
              "      <td>NaN</td>\n",
              "      <td>NaN</td>\n",
              "    </tr>\n",
              "    <tr>\n",
              "      <th>min</th>\n",
              "      <td>2.000000</td>\n",
              "      <td>NaN</td>\n",
              "      <td>NaN</td>\n",
              "      <td>0.000000</td>\n",
              "      <td>NaN</td>\n",
              "      <td>18.000000</td>\n",
              "      <td>NaN</td>\n",
              "      <td>NaN</td>\n",
              "      <td>NaN</td>\n",
              "      <td>NaN</td>\n",
              "    </tr>\n",
              "    <tr>\n",
              "      <th>25%</th>\n",
              "      <td>12.000000</td>\n",
              "      <td>NaN</td>\n",
              "      <td>NaN</td>\n",
              "      <td>8.000000</td>\n",
              "      <td>NaN</td>\n",
              "      <td>28.000000</td>\n",
              "      <td>NaN</td>\n",
              "      <td>NaN</td>\n",
              "      <td>NaN</td>\n",
              "      <td>NaN</td>\n",
              "    </tr>\n",
              "    <tr>\n",
              "      <th>50%</th>\n",
              "      <td>12.000000</td>\n",
              "      <td>NaN</td>\n",
              "      <td>NaN</td>\n",
              "      <td>15.000000</td>\n",
              "      <td>NaN</td>\n",
              "      <td>35.000000</td>\n",
              "      <td>NaN</td>\n",
              "      <td>NaN</td>\n",
              "      <td>NaN</td>\n",
              "      <td>NaN</td>\n",
              "    </tr>\n",
              "    <tr>\n",
              "      <th>75%</th>\n",
              "      <td>15.000000</td>\n",
              "      <td>NaN</td>\n",
              "      <td>NaN</td>\n",
              "      <td>26.000000</td>\n",
              "      <td>NaN</td>\n",
              "      <td>44.000000</td>\n",
              "      <td>NaN</td>\n",
              "      <td>NaN</td>\n",
              "      <td>NaN</td>\n",
              "      <td>NaN</td>\n",
              "    </tr>\n",
              "    <tr>\n",
              "      <th>max</th>\n",
              "      <td>18.000000</td>\n",
              "      <td>NaN</td>\n",
              "      <td>NaN</td>\n",
              "      <td>55.000000</td>\n",
              "      <td>NaN</td>\n",
              "      <td>64.000000</td>\n",
              "      <td>NaN</td>\n",
              "      <td>NaN</td>\n",
              "      <td>NaN</td>\n",
              "      <td>NaN</td>\n",
              "    </tr>\n",
              "  </tbody>\n",
              "</table>\n",
              "</div>\n",
              "      <button class=\"colab-df-convert\" onclick=\"convertToInteractive('df-1bce49c5-6e1d-46d6-9f53-9ccbffcc0a6f')\"\n",
              "              title=\"Convert this dataframe to an interactive table.\"\n",
              "              style=\"display:none;\">\n",
              "        \n",
              "  <svg xmlns=\"http://www.w3.org/2000/svg\" height=\"24px\"viewBox=\"0 0 24 24\"\n",
              "       width=\"24px\">\n",
              "    <path d=\"M0 0h24v24H0V0z\" fill=\"none\"/>\n",
              "    <path d=\"M18.56 5.44l.94 2.06.94-2.06 2.06-.94-2.06-.94-.94-2.06-.94 2.06-2.06.94zm-11 1L8.5 8.5l.94-2.06 2.06-.94-2.06-.94L8.5 2.5l-.94 2.06-2.06.94zm10 10l.94 2.06.94-2.06 2.06-.94-2.06-.94-.94-2.06-.94 2.06-2.06.94z\"/><path d=\"M17.41 7.96l-1.37-1.37c-.4-.4-.92-.59-1.43-.59-.52 0-1.04.2-1.43.59L10.3 9.45l-7.72 7.72c-.78.78-.78 2.05 0 2.83L4 21.41c.39.39.9.59 1.41.59.51 0 1.02-.2 1.41-.59l7.78-7.78 2.81-2.81c.8-.78.8-2.07 0-2.86zM5.41 20L4 18.59l7.72-7.72 1.47 1.35L5.41 20z\"/>\n",
              "  </svg>\n",
              "      </button>\n",
              "      \n",
              "  <style>\n",
              "    .colab-df-container {\n",
              "      display:flex;\n",
              "      flex-wrap:wrap;\n",
              "      gap: 12px;\n",
              "    }\n",
              "\n",
              "    .colab-df-convert {\n",
              "      background-color: #E8F0FE;\n",
              "      border: none;\n",
              "      border-radius: 50%;\n",
              "      cursor: pointer;\n",
              "      display: none;\n",
              "      fill: #1967D2;\n",
              "      height: 32px;\n",
              "      padding: 0 0 0 0;\n",
              "      width: 32px;\n",
              "    }\n",
              "\n",
              "    .colab-df-convert:hover {\n",
              "      background-color: #E2EBFA;\n",
              "      box-shadow: 0px 1px 2px rgba(60, 64, 67, 0.3), 0px 1px 3px 1px rgba(60, 64, 67, 0.15);\n",
              "      fill: #174EA6;\n",
              "    }\n",
              "\n",
              "    [theme=dark] .colab-df-convert {\n",
              "      background-color: #3B4455;\n",
              "      fill: #D2E3FC;\n",
              "    }\n",
              "\n",
              "    [theme=dark] .colab-df-convert:hover {\n",
              "      background-color: #434B5C;\n",
              "      box-shadow: 0px 1px 3px 1px rgba(0, 0, 0, 0.15);\n",
              "      filter: drop-shadow(0px 1px 2px rgba(0, 0, 0, 0.3));\n",
              "      fill: #FFFFFF;\n",
              "    }\n",
              "  </style>\n",
              "\n",
              "      <script>\n",
              "        const buttonEl =\n",
              "          document.querySelector('#df-1bce49c5-6e1d-46d6-9f53-9ccbffcc0a6f button.colab-df-convert');\n",
              "        buttonEl.style.display =\n",
              "          google.colab.kernel.accessAllowed ? 'block' : 'none';\n",
              "\n",
              "        async function convertToInteractive(key) {\n",
              "          const element = document.querySelector('#df-1bce49c5-6e1d-46d6-9f53-9ccbffcc0a6f');\n",
              "          const dataTable =\n",
              "            await google.colab.kernel.invokeFunction('convertToInteractive',\n",
              "                                                     [key], {});\n",
              "          if (!dataTable) return;\n",
              "\n",
              "          const docLinkHtml = 'Like what you see? Visit the ' +\n",
              "            '<a target=\"_blank\" href=https://colab.research.google.com/notebooks/data_table.ipynb>data table notebook</a>'\n",
              "            + ' to learn more about interactive tables.';\n",
              "          element.innerHTML = '';\n",
              "          dataTable['output_type'] = 'display_data';\n",
              "          await google.colab.output.renderOutput(dataTable, element);\n",
              "          const docLink = document.createElement('div');\n",
              "          docLink.innerHTML = docLinkHtml;\n",
              "          element.appendChild(docLink);\n",
              "        }\n",
              "      </script>\n",
              "    </div>\n",
              "  </div>\n",
              "  "
            ]
          },
          "metadata": {},
          "execution_count": 19
        }
      ]
    },
    {
      "cell_type": "code",
      "source": [
        "# Extract outcome variable -> Wage in dollars/hour (log-transformed)\n",
        "wages_survey_y = wages_survey_raw.target.values.ravel()\n",
        "# Print some of the values of our outcome variable \n",
        "wages_survey_raw.target.head()"
      ],
      "metadata": {
        "colab": {
          "base_uri": "https://localhost:8080/"
        },
        "id": "P-ENJvEdOkKR",
        "outputId": "2db34b17-6ee2-4e7d-8305-f3a1354d1794"
      },
      "execution_count": null,
      "outputs": [
        {
          "output_type": "execute_result",
          "data": {
            "text/plain": [
              "0    5.10\n",
              "1    4.95\n",
              "2    6.67\n",
              "3    4.00\n",
              "4    7.50\n",
              "Name: WAGE, dtype: float64"
            ]
          },
          "metadata": {},
          "execution_count": 20
        }
      ]
    },
    {
      "cell_type": "markdown",
      "source": [
        "We want to analyze, which variables do explain the wage of a person. Thus, we first check the distributions of values for wage. We can do this with a histogram or for example with a boxplot. "
      ],
      "metadata": {
        "id": "DHUvxvrUqlT7"
      }
    },
    {
      "cell_type": "code",
      "source": [
        "# Plot the distribution in a simple histogram\n",
        "wages_survey_raw.target.plot.hist()"
      ],
      "metadata": {
        "colab": {
          "base_uri": "https://localhost:8080/",
          "height": 283
        },
        "id": "HQmOFJYZrBsR",
        "outputId": "7fbd0906-ec34-4d72-f2da-4941afab402d"
      },
      "execution_count": null,
      "outputs": [
        {
          "output_type": "execute_result",
          "data": {
            "text/plain": [
              "<matplotlib.axes._subplots.AxesSubplot at 0x7f5383246eb0>"
            ]
          },
          "metadata": {},
          "execution_count": 34
        },
        {
          "output_type": "display_data",
          "data": {
            "text/plain": [
              "<Figure size 432x288 with 1 Axes>"
            ],
            "image/png": "[encoded data removed]"
          },
          "metadata": {
            "needs_background": "light"
          }
        }
      ]
    },
    {
      "cell_type": "code",
      "source": [
        "import matplotlib.pyplot as plt\n",
        "\n",
        "# Plot the distribution in a boxplot\n",
        "fig1, ax1 = plt.subplots() # initialize plot\n",
        "ax1.set_title('Wage Distribution') # add a plot title\n",
        "ax1.boxplot(wages_survey_raw.target, vert=False) # add boxplot object\n",
        "plt.yticks([]) # Remove y ticks\n",
        "# display the plot\n",
        "fig1.show()"
      ],
      "metadata": {
        "colab": {
          "base_uri": "https://localhost:8080/",
          "height": 281
        },
        "id": "QouqsN32JHaP",
        "outputId": "067c624b-1010-4233-90c3-cdc12362218c"
      },
      "execution_count": null,
      "outputs": [
        {
          "output_type": "display_data",
          "data": {
            "text/plain": [
              "<Figure size 432x288 with 1 Axes>"
            ],
            "image/png": "[encoded data removed]"
          },
          "metadata": {
            "needs_background": "light"
          }
        }
      ]
    },
    {
      "cell_type": "markdown",
      "source": [
        "There is one clear outlier in the dataset. Let's check his or hers data. Before we do this, we first combine the outcome (Wage) with our predictors."
      ],
      "metadata": {
        "id": "04ufDcuXKWkW"
      }
    },
    {
      "cell_type": "code",
      "source": [
        "# create a \"deep\" copy of our predictor dataframe\n",
        "wages_survey_X_copy = wages_survey_X.copy()\n",
        "# add the outcome variable to the dataframe\n",
        "wages_survey_X_copy.insert(0, \"WAGE\", wages_survey_y)\n",
        "\n",
        "# Get outlier row by looking for the maximum WAGE row index\n",
        "wages_survey_X_copy.iloc[wages_survey_X_copy['WAGE'].idxmax()]\n",
        "\n",
        "# In case we would decide to remove that row from our dataset, we could use the following command:\n",
        "# wages_survey_X_copy.drop(wages_survey_X_copy['WAGE'].idxmax(), axis=0, inplace=True)"
      ],
      "metadata": {
        "colab": {
          "base_uri": "https://localhost:8080/"
        },
        "id": "IVuTXtPqKVAP",
        "outputId": "828f7b56-d01c-4608-d984-d9e7f9f948ae"
      },
      "execution_count": null,
      "outputs": [
        {
          "output_type": "execute_result",
          "data": {
            "text/plain": [
              "WAGE                44.5\n",
              "EDUCATION           14.0\n",
              "SOUTH                 no\n",
              "SEX               female\n",
              "EXPERIENCE           1.0\n",
              "UNION         not_member\n",
              "AGE                 21.0\n",
              "RACE               White\n",
              "OCCUPATION    Management\n",
              "SECTOR             Other\n",
              "MARR           Unmarried\n",
              "Name: 170, dtype: object"
            ]
          },
          "metadata": {},
          "execution_count": 36
        }
      ]
    },
    {
      "cell_type": "markdown",
      "source": [
        "How are our continuous vairables correlated with each other? We can see this in a pairplot using the `seaborn` package:"
      ],
      "metadata": {
        "id": "H87Kctq4nCas"
      }
    },
    {
      "cell_type": "code",
      "source": [
        "# import all functions from the seaborn package and name it sns\n",
        "import seaborn as sns\n",
        "\n",
        "# create a \"deep\" copy of our predictor dataframe\n",
        "wages_survey_X_copy = wages_survey_X.copy()\n",
        "# add the outcome variable to the dataframe\n",
        "wages_survey_X_copy.insert(0, \"WAGE\", wages_survey_y)\n",
        "# plot the relationships of all continuous variables and their individual distributions\n",
        "sns.pairplot(wages_survey_X_copy, kind=\"reg\", diag_kind=\"kde\")"
      ],
      "metadata": {
        "colab": {
          "base_uri": "https://localhost:8080/",
          "height": 744
        },
        "id": "x49urrSmLpjQ",
        "outputId": "a3172037-7bd8-462f-b0ed-49817b12b9cc"
      },
      "execution_count": null,
      "outputs": [
        {
          "output_type": "execute_result",
          "data": {
            "text/plain": [
              "<seaborn.axisgrid.PairGrid at 0x7f5383f917f0>"
            ]
          },
          "metadata": {},
          "execution_count": 37
        },
        {
          "output_type": "display_data",
          "data": {
            "text/plain": [
              "<Figure size 720x720 with 20 Axes>"
            ],
            "image/png": "[encoded data removed]"
          },
          "metadata": {
            "needs_background": "light"
          }
        }
      ]
    },
    {
      "cell_type": "markdown",
      "source": [
        "What about our other predictors which are categorical?\n",
        "\n",
        "* Sex\n",
        "* South\n",
        "* Race\n",
        "* Sector\n",
        "* Married\n",
        "\n",
        "Let's also check the distributions for a selection of them and create a function to simplify the plot generation."
      ],
      "metadata": {
        "id": "k1gGiprXweqp"
      }
    },
    {
      "cell_type": "code",
      "source": [
        "def distribution_plot(column_name,\n",
        "                      column_label,\n",
        "                      ticks_label = None):\n",
        "  # Group and count the data by category\n",
        "  grouped_categeories = wages_survey_X.groupby(by=column_name, dropna=False).size()\n",
        "  \n",
        "  # Start the Plot procedure\n",
        "  fig = plt.figure() # initialize plot\n",
        "  ax = fig.add_axes(rect = [0,0,1,1]) # Add axes to plot\n",
        "  ax.set_ylabel(\"Count\") # add y label\n",
        "  ax.set_xlabel(column_label) # add dynamic x label\n",
        "  ax.set_title(\"Distribution of \" + column_label) # add a plot title\n",
        "  \n",
        "  # if labels for ticks are provided, use them, otherwise use the default ones\n",
        "  if ticks_label is None:\n",
        "    ax.bar(x = list([str(i) for i in grouped_categeories.keys()]), height = grouped_categeories)\n",
        "  else:\n",
        "    ax.bar(x = ticks_label, height = grouped_categeories)\n",
        "  # display the plot\n",
        "  plt.show()"
      ],
      "metadata": {
        "id": "2clLKjEXvgsX"
      },
      "execution_count": null,
      "outputs": []
    },
    {
      "cell_type": "code",
      "source": [
        "distribution_plot(\"SEX\", \"Sex\", [\"Female\", \"Male\"])"
      ],
      "metadata": {
        "colab": {
          "base_uri": "https://localhost:8080/",
          "height": 366
        },
        "id": "I1lHKrBjxU3X",
        "outputId": "972c3fcc-7ea8-46ce-c5fc-16749ca876e3"
      },
      "execution_count": null,
      "outputs": [
        {
          "output_type": "display_data",
          "data": {
            "text/plain": [
              "<Figure size 432x288 with 1 Axes>"
            ],
            "image/png": "[encoded data removed]"
          },
          "metadata": {
            "needs_background": "light"
          }
        }
      ]
    },
    {
      "cell_type": "code",
      "source": [
        "distribution_plot(\"RACE\", \"Race\")"
      ],
      "metadata": {
        "colab": {
          "base_uri": "https://localhost:8080/",
          "height": 366
        },
        "id": "GOsOVz2hWXdB",
        "outputId": "ee0a13fe-34ab-4c6c-fcb0-0dea4832ea98"
      },
      "execution_count": null,
      "outputs": [
        {
          "output_type": "display_data",
          "data": {
            "text/plain": [
              "<Figure size 432x288 with 1 Axes>"
            ],
            "image/png": "[encoded data removed]"
          },
          "metadata": {
            "needs_background": "light"
          }
        }
      ]
    },
    {
      "cell_type": "code",
      "source": [
        "distribution_plot(\"OCCUPATION\", \"Occupation\")"
      ],
      "metadata": {
        "colab": {
          "base_uri": "https://localhost:8080/",
          "height": 366
        },
        "outputId": "05ab9fa7-c77b-4311-b0fd-e5757a7dade9",
        "id": "MtSTqn5XWmnq"
      },
      "execution_count": null,
      "outputs": [
        {
          "output_type": "display_data",
          "data": {
            "text/plain": [
              "<Figure size 432x288 with 1 Axes>"
            ],
            "image/png": "[encoded data removed]"
          },
          "metadata": {
            "needs_background": "light"
          }
        }
      ]
    },
    {
      "cell_type": "markdown",
      "source": [
        "To simplify our analysis we only include Education, Experience and Sex into our upcoming models. Let's just keep these columns by selecting them and do a final check for any NA values."
      ],
      "metadata": {
        "id": "esGSksTT4_50"
      }
    },
    {
      "cell_type": "code",
      "source": [
        "# Select the columns we're focusing on\n",
        "wages_survey_X = wages_survey_X[[\"SEX\", \"OCCUPATION\", \"MARR\"]]\n",
        "\n",
        "# Check these columns for NA values and print the result\n",
        "print(f\"Are there any NA values in the predictors? -> {wages_survey_X.isna().values.any()}\")\n",
        "# Also check our outcome variable wage for NA values and print the result\n",
        "print(f\"Are there any NA values in the outcome? -> {wages_survey_raw.target.isna().values.any()}\")"
      ],
      "metadata": {
        "colab": {
          "base_uri": "https://localhost:8080/"
        },
        "id": "Kueo8wU36bL4",
        "outputId": "a40584c2-32e2-4627-9821-02e349ee5d10"
      },
      "execution_count": null,
      "outputs": [
        {
          "output_type": "stream",
          "name": "stdout",
          "text": [
            "Are there any NA values in the predictors? -> False\n",
            "Are there any NA values in the outcome? -> False\n"
          ]
        }
      ]
    },
    {
      "cell_type": "markdown",
      "source": [
        "Fortunately, we do not obsere any NA values in these columns. If you work with another dataset with NA values you could try to impute them. The Scikit-learn package offers great oppourtunities to start with: [Scikit-Learn Data Imputation](https://scikit-learn.org/stable/modules/impute.html)"
      ],
      "metadata": {
        "id": "uTlL7UE8X0MD"
      }
    },
    {
      "cell_type": "markdown",
      "source": [
        "### 2 Preprocessing\n",
        "\n",
        "Let's continue with some basic preprocessing steps and a train-/testsplit for the upcoming models."
      ],
      "metadata": {
        "id": "huV8LUwytZzl"
      }
    },
    {
      "cell_type": "code",
      "source": [
        "import pandas as pd\n",
        "from sklearn.preprocessing import LabelEncoder\n",
        "# Show no warnings\n",
        "pd.options.mode.chained_assignment = None\n",
        "\n",
        "le = LabelEncoder() # functionality to replace categorie names of a feature with numerical IDs\n",
        "wages_survey_X[\"SEX\"] = le.fit_transform(wages_survey_X[\"SEX\"])\n",
        "wages_survey_X[\"OCCUPATION\"] = le.fit_transform(wages_survey_X[\"OCCUPATION\"])\n",
        "wages_survey_X[\"MARR\"] = le.fit_transform(wages_survey_X[\"MARR\"])"
      ],
      "metadata": {
        "id": "fohZ23Is8FdW"
      },
      "execution_count": null,
      "outputs": []
    },
    {
      "cell_type": "code",
      "source": [
        "import pandas as pd\n",
        "\n",
        "# Cut the dataset into two portions and adjust the outcome variable accordingly\n",
        "# Less than wage mean = 0, more than wage mean = 1\n",
        "wages_survey_y = pd.cut(wages_survey_raw.target, [0, wages_survey_raw.target.mean(), wages_survey_raw.target.max()], labels = [\"0\", \"1\"])\n",
        "wages_survey_y"
      ],
      "metadata": {
        "colab": {
          "base_uri": "https://localhost:8080/"
        },
        "id": "ucdGSsEb9uRa",
        "outputId": "4c1db063-59a7-4612-9af0-2b44faf86fb2"
      },
      "execution_count": null,
      "outputs": [
        {
          "output_type": "execute_result",
          "data": {
            "text/plain": [
              "0      0\n",
              "1      0\n",
              "2      0\n",
              "3      0\n",
              "4      0\n",
              "      ..\n",
              "529    1\n",
              "530    0\n",
              "531    1\n",
              "532    1\n",
              "533    1\n",
              "Name: WAGE, Length: 534, dtype: category\n",
              "Categories (2, object): ['0' < '1']"
            ]
          },
          "metadata": {},
          "execution_count": 49
        }
      ]
    },
    {
      "cell_type": "code",
      "source": [
        "wages_survey_X"
      ],
      "metadata": {
        "colab": {
          "base_uri": "https://localhost:8080/",
          "height": 424
        },
        "id": "VmGYEP7NCN8j",
        "outputId": "b9f6dc03-4e64-4d78-bba9-632ce0b86454"
      },
      "execution_count": null,
      "outputs": [
        {
          "output_type": "execute_result",
          "data": {
            "text/plain": [
              "     SEX  OCCUPATION  MARR\n",
              "0      0           2     0\n",
              "1      0           2     0\n",
              "2      1           2     1\n",
              "3      1           2     1\n",
              "4      1           2     0\n",
              "..   ...         ...   ...\n",
              "529    1           3     1\n",
              "530    0           3     0\n",
              "531    0           3     0\n",
              "532    1           3     0\n",
              "533    1           3     0\n",
              "\n",
              "[534 rows x 3 columns]"
            ],
            "text/html": [
              "\n",
              "  <div id=\"df-bd9e1196-bdcd-4e7e-bd09-bfb1de3c4d63\">\n",
              "    <div class=\"colab-df-container\">\n",
              "      <div>\n",
              "<style scoped>\n",
              "    .dataframe tbody tr th:only-of-type {\n",
              "        vertical-align: middle;\n",
              "    }\n",
              "\n",
              "    .dataframe tbody tr th {\n",
              "        vertical-align: top;\n",
              "    }\n",
              "\n",
              "    .dataframe thead th {\n",
              "        text-align: right;\n",
              "    }\n",
              "</style>\n",
              "<table border=\"1\" class=\"dataframe\">\n",
              "  <thead>\n",
              "    <tr style=\"text-align: right;\">\n",
              "      <th></th>\n",
              "      <th>SEX</th>\n",
              "      <th>OCCUPATION</th>\n",
              "      <th>MARR</th>\n",
              "    </tr>\n",
              "  </thead>\n",
              "  <tbody>\n",
              "    <tr>\n",
              "      <th>0</th>\n",
              "      <td>0</td>\n",
              "      <td>2</td>\n",
              "      <td>0</td>\n",
              "    </tr>\n",
              "    <tr>\n",
              "      <th>1</th>\n",
              "      <td>0</td>\n",
              "      <td>2</td>\n",
              "      <td>0</td>\n",
              "    </tr>\n",
              "    <tr>\n",
              "      <th>2</th>\n",
              "      <td>1</td>\n",
              "      <td>2</td>\n",
              "      <td>1</td>\n",
              "    </tr>\n",
              "    <tr>\n",
              "      <th>3</th>\n",
              "      <td>1</td>\n",
              "      <td>2</td>\n",
              "      <td>1</td>\n",
              "    </tr>\n",
              "    <tr>\n",
              "      <th>4</th>\n",
              "      <td>1</td>\n",
              "      <td>2</td>\n",
              "      <td>0</td>\n",
              "    </tr>\n",
              "    <tr>\n",
              "      <th>...</th>\n",
              "      <td>...</td>\n",
              "      <td>...</td>\n",
              "      <td>...</td>\n",
              "    </tr>\n",
              "    <tr>\n",
              "      <th>529</th>\n",
              "      <td>1</td>\n",
              "      <td>3</td>\n",
              "      <td>1</td>\n",
              "    </tr>\n",
              "    <tr>\n",
              "      <th>530</th>\n",
              "      <td>0</td>\n",
              "      <td>3</td>\n",
              "      <td>0</td>\n",
              "    </tr>\n",
              "    <tr>\n",
              "      <th>531</th>\n",
              "      <td>0</td>\n",
              "      <td>3</td>\n",
              "      <td>0</td>\n",
              "    </tr>\n",
              "    <tr>\n",
              "      <th>532</th>\n",
              "      <td>1</td>\n",
              "      <td>3</td>\n",
              "      <td>0</td>\n",
              "    </tr>\n",
              "    <tr>\n",
              "      <th>533</th>\n",
              "      <td>1</td>\n",
              "      <td>3</td>\n",
              "      <td>0</td>\n",
              "    </tr>\n",
              "  </tbody>\n",
              "</table>\n",
              "<p>534 rows × 3 columns</p>\n",
              "</div>\n",
              "      <button class=\"colab-df-convert\" onclick=\"convertToInteractive('df-bd9e1196-bdcd-4e7e-bd09-bfb1de3c4d63')\"\n",
              "              title=\"Convert this dataframe to an interactive table.\"\n",
              "              style=\"display:none;\">\n",
              "        \n",
              "  <svg xmlns=\"http://www.w3.org/2000/svg\" height=\"24px\"viewBox=\"0 0 24 24\"\n",
              "       width=\"24px\">\n",
              "    <path d=\"M0 0h24v24H0V0z\" fill=\"none\"/>\n",
              "    <path d=\"M18.56 5.44l.94 2.06.94-2.06 2.06-.94-2.06-.94-.94-2.06-.94 2.06-2.06.94zm-11 1L8.5 8.5l.94-2.06 2.06-.94-2.06-.94L8.5 2.5l-.94 2.06-2.06.94zm10 10l.94 2.06.94-2.06 2.06-.94-2.06-.94-.94-2.06-.94 2.06-2.06.94z\"/><path d=\"M17.41 7.96l-1.37-1.37c-.4-.4-.92-.59-1.43-.59-.52 0-1.04.2-1.43.59L10.3 9.45l-7.72 7.72c-.78.78-.78 2.05 0 2.83L4 21.41c.39.39.9.59 1.41.59.51 0 1.02-.2 1.41-.59l7.78-7.78 2.81-2.81c.8-.78.8-2.07 0-2.86zM5.41 20L4 18.59l7.72-7.72 1.47 1.35L5.41 20z\"/>\n",
              "  </svg>\n",
              "      </button>\n",
              "      \n",
              "  <style>\n",
              "    .colab-df-container {\n",
              "      display:flex;\n",
              "      flex-wrap:wrap;\n",
              "      gap: 12px;\n",
              "    }\n",
              "\n",
              "    .colab-df-convert {\n",
              "      background-color: #E8F0FE;\n",
              "      border: none;\n",
              "      border-radius: 50%;\n",
              "      cursor: pointer;\n",
              "      display: none;\n",
              "      fill: #1967D2;\n",
              "      height: 32px;\n",
              "      padding: 0 0 0 0;\n",
              "      width: 32px;\n",
              "    }\n",
              "\n",
              "    .colab-df-convert:hover {\n",
              "      background-color: #E2EBFA;\n",
              "      box-shadow: 0px 1px 2px rgba(60, 64, 67, 0.3), 0px 1px 3px 1px rgba(60, 64, 67, 0.15);\n",
              "      fill: #174EA6;\n",
              "    }\n",
              "\n",
              "    [theme=dark] .colab-df-convert {\n",
              "      background-color: #3B4455;\n",
              "      fill: #D2E3FC;\n",
              "    }\n",
              "\n",
              "    [theme=dark] .colab-df-convert:hover {\n",
              "      background-color: #434B5C;\n",
              "      box-shadow: 0px 1px 3px 1px rgba(0, 0, 0, 0.15);\n",
              "      filter: drop-shadow(0px 1px 2px rgba(0, 0, 0, 0.3));\n",
              "      fill: #FFFFFF;\n",
              "    }\n",
              "  </style>\n",
              "\n",
              "      <script>\n",
              "        const buttonEl =\n",
              "          document.querySelector('#df-bd9e1196-bdcd-4e7e-bd09-bfb1de3c4d63 button.colab-df-convert');\n",
              "        buttonEl.style.display =\n",
              "          google.colab.kernel.accessAllowed ? 'block' : 'none';\n",
              "\n",
              "        async function convertToInteractive(key) {\n",
              "          const element = document.querySelector('#df-bd9e1196-bdcd-4e7e-bd09-bfb1de3c4d63');\n",
              "          const dataTable =\n",
              "            await google.colab.kernel.invokeFunction('convertToInteractive',\n",
              "                                                     [key], {});\n",
              "          if (!dataTable) return;\n",
              "\n",
              "          const docLinkHtml = 'Like what you see? Visit the ' +\n",
              "            '<a target=\"_blank\" href=https://colab.research.google.com/notebooks/data_table.ipynb>data table notebook</a>'\n",
              "            + ' to learn more about interactive tables.';\n",
              "          element.innerHTML = '';\n",
              "          dataTable['output_type'] = 'display_data';\n",
              "          await google.colab.output.renderOutput(dataTable, element);\n",
              "          const docLink = document.createElement('div');\n",
              "          docLink.innerHTML = docLinkHtml;\n",
              "          element.appendChild(docLink);\n",
              "        }\n",
              "      </script>\n",
              "    </div>\n",
              "  </div>\n",
              "  "
            ]
          },
          "metadata": {},
          "execution_count": 51
        }
      ]
    },
    {
      "cell_type": "code",
      "source": [
        "from sklearn.model_selection import train_test_split, ShuffleSplit, GridSearchCV, RandomizedSearchCV\n",
        "\n",
        "# Split into train and test set\n",
        "X_train, X_test, y_train, y_test = train_test_split(\n",
        "    wages_survey_X, wages_survey_y, test_size=0.2, random_state=20221216)"
      ],
      "metadata": {
        "id": "ecJFK17ntc7h"
      },
      "execution_count": null,
      "outputs": []
    },
    {
      "cell_type": "markdown",
      "source": [
        "Let's take a look at the train data set:"
      ],
      "metadata": {
        "id": "l-6IPajnuSwq"
      }
    },
    {
      "cell_type": "code",
      "source": [
        "X_train"
      ],
      "metadata": {
        "colab": {
          "base_uri": "https://localhost:8080/",
          "height": 424
        },
        "id": "gl2VxTJ2uP3C",
        "outputId": "b02d385c-e12e-4536-ba54-807fe920fe14"
      },
      "execution_count": null,
      "outputs": [
        {
          "output_type": "execute_result",
          "data": {
            "text/plain": [
              "     SEX  OCCUPATION  MARR\n",
              "280    1           0     0\n",
              "487    0           3     1\n",
              "317    0           0     0\n",
              "52     0           2     0\n",
              "163    1           1     1\n",
              "..   ...         ...   ...\n",
              "523    1           3     0\n",
              "422    0           5     0\n",
              "10     1           2     0\n",
              "145    1           2     0\n",
              "240    0           4     0\n",
              "\n",
              "[427 rows x 3 columns]"
            ],
            "text/html": [
              "\n",
              "  <div id=\"df-7805536a-69b3-4c0d-aed9-f0a4af2d4a6a\">\n",
              "    <div class=\"colab-df-container\">\n",
              "      <div>\n",
              "<style scoped>\n",
              "    .dataframe tbody tr th:only-of-type {\n",
              "        vertical-align: middle;\n",
              "    }\n",
              "\n",
              "    .dataframe tbody tr th {\n",
              "        vertical-align: top;\n",
              "    }\n",
              "\n",
              "    .dataframe thead th {\n",
              "        text-align: right;\n",
              "    }\n",
              "</style>\n",
              "<table border=\"1\" class=\"dataframe\">\n",
              "  <thead>\n",
              "    <tr style=\"text-align: right;\">\n",
              "      <th></th>\n",
              "      <th>SEX</th>\n",
              "      <th>OCCUPATION</th>\n",
              "      <th>MARR</th>\n",
              "    </tr>\n",
              "  </thead>\n",
              "  <tbody>\n",
              "    <tr>\n",
              "      <th>280</th>\n",
              "      <td>1</td>\n",
              "      <td>0</td>\n",
              "      <td>0</td>\n",
              "    </tr>\n",
              "    <tr>\n",
              "      <th>487</th>\n",
              "      <td>0</td>\n",
              "      <td>3</td>\n",
              "      <td>1</td>\n",
              "    </tr>\n",
              "    <tr>\n",
              "      <th>317</th>\n",
              "      <td>0</td>\n",
              "      <td>0</td>\n",
              "      <td>0</td>\n",
              "    </tr>\n",
              "    <tr>\n",
              "      <th>52</th>\n",
              "      <td>0</td>\n",
              "      <td>2</td>\n",
              "      <td>0</td>\n",
              "    </tr>\n",
              "    <tr>\n",
              "      <th>163</th>\n",
              "      <td>1</td>\n",
              "      <td>1</td>\n",
              "      <td>1</td>\n",
              "    </tr>\n",
              "    <tr>\n",
              "      <th>...</th>\n",
              "      <td>...</td>\n",
              "      <td>...</td>\n",
              "      <td>...</td>\n",
              "    </tr>\n",
              "    <tr>\n",
              "      <th>523</th>\n",
              "      <td>1</td>\n",
              "      <td>3</td>\n",
              "      <td>0</td>\n",
              "    </tr>\n",
              "    <tr>\n",
              "      <th>422</th>\n",
              "      <td>0</td>\n",
              "      <td>5</td>\n",
              "      <td>0</td>\n",
              "    </tr>\n",
              "    <tr>\n",
              "      <th>10</th>\n",
              "      <td>1</td>\n",
              "      <td>2</td>\n",
              "      <td>0</td>\n",
              "    </tr>\n",
              "    <tr>\n",
              "      <th>145</th>\n",
              "      <td>1</td>\n",
              "      <td>2</td>\n",
              "      <td>0</td>\n",
              "    </tr>\n",
              "    <tr>\n",
              "      <th>240</th>\n",
              "      <td>0</td>\n",
              "      <td>4</td>\n",
              "      <td>0</td>\n",
              "    </tr>\n",
              "  </tbody>\n",
              "</table>\n",
              "<p>427 rows × 3 columns</p>\n",
              "</div>\n",
              "      <button class=\"colab-df-convert\" onclick=\"convertToInteractive('df-7805536a-69b3-4c0d-aed9-f0a4af2d4a6a')\"\n",
              "              title=\"Convert this dataframe to an interactive table.\"\n",
              "              style=\"display:none;\">\n",
              "        \n",
              "  <svg xmlns=\"http://www.w3.org/2000/svg\" height=\"24px\"viewBox=\"0 0 24 24\"\n",
              "       width=\"24px\">\n",
              "    <path d=\"M0 0h24v24H0V0z\" fill=\"none\"/>\n",
              "    <path d=\"M18.56 5.44l.94 2.06.94-2.06 2.06-.94-2.06-.94-.94-2.06-.94 2.06-2.06.94zm-11 1L8.5 8.5l.94-2.06 2.06-.94-2.06-.94L8.5 2.5l-.94 2.06-2.06.94zm10 10l.94 2.06.94-2.06 2.06-.94-2.06-.94-.94-2.06-.94 2.06-2.06.94z\"/><path d=\"M17.41 7.96l-1.37-1.37c-.4-.4-.92-.59-1.43-.59-.52 0-1.04.2-1.43.59L10.3 9.45l-7.72 7.72c-.78.78-.78 2.05 0 2.83L4 21.41c.39.39.9.59 1.41.59.51 0 1.02-.2 1.41-.59l7.78-7.78 2.81-2.81c.8-.78.8-2.07 0-2.86zM5.41 20L4 18.59l7.72-7.72 1.47 1.35L5.41 20z\"/>\n",
              "  </svg>\n",
              "      </button>\n",
              "      \n",
              "  <style>\n",
              "    .colab-df-container {\n",
              "      display:flex;\n",
              "      flex-wrap:wrap;\n",
              "      gap: 12px;\n",
              "    }\n",
              "\n",
              "    .colab-df-convert {\n",
              "      background-color: #E8F0FE;\n",
              "      border: none;\n",
              "      border-radius: 50%;\n",
              "      cursor: pointer;\n",
              "      display: none;\n",
              "      fill: #1967D2;\n",
              "      height: 32px;\n",
              "      padding: 0 0 0 0;\n",
              "      width: 32px;\n",
              "    }\n",
              "\n",
              "    .colab-df-convert:hover {\n",
              "      background-color: #E2EBFA;\n",
              "      box-shadow: 0px 1px 2px rgba(60, 64, 67, 0.3), 0px 1px 3px 1px rgba(60, 64, 67, 0.15);\n",
              "      fill: #174EA6;\n",
              "    }\n",
              "\n",
              "    [theme=dark] .colab-df-convert {\n",
              "      background-color: #3B4455;\n",
              "      fill: #D2E3FC;\n",
              "    }\n",
              "\n",
              "    [theme=dark] .colab-df-convert:hover {\n",
              "      background-color: #434B5C;\n",
              "      box-shadow: 0px 1px 3px 1px rgba(0, 0, 0, 0.15);\n",
              "      filter: drop-shadow(0px 1px 2px rgba(0, 0, 0, 0.3));\n",
              "      fill: #FFFFFF;\n",
              "    }\n",
              "  </style>\n",
              "\n",
              "      <script>\n",
              "        const buttonEl =\n",
              "          document.querySelector('#df-7805536a-69b3-4c0d-aed9-f0a4af2d4a6a button.colab-df-convert');\n",
              "        buttonEl.style.display =\n",
              "          google.colab.kernel.accessAllowed ? 'block' : 'none';\n",
              "\n",
              "        async function convertToInteractive(key) {\n",
              "          const element = document.querySelector('#df-7805536a-69b3-4c0d-aed9-f0a4af2d4a6a');\n",
              "          const dataTable =\n",
              "            await google.colab.kernel.invokeFunction('convertToInteractive',\n",
              "                                                     [key], {});\n",
              "          if (!dataTable) return;\n",
              "\n",
              "          const docLinkHtml = 'Like what you see? Visit the ' +\n",
              "            '<a target=\"_blank\" href=https://colab.research.google.com/notebooks/data_table.ipynb>data table notebook</a>'\n",
              "            + ' to learn more about interactive tables.';\n",
              "          element.innerHTML = '';\n",
              "          dataTable['output_type'] = 'display_data';\n",
              "          await google.colab.output.renderOutput(dataTable, element);\n",
              "          const docLink = document.createElement('div');\n",
              "          docLink.innerHTML = docLinkHtml;\n",
              "          element.appendChild(docLink);\n",
              "        }\n",
              "      </script>\n",
              "    </div>\n",
              "  </div>\n",
              "  "
            ]
          },
          "metadata": {},
          "execution_count": 53
        }
      ]
    },
    {
      "cell_type": "code",
      "source": [
        "y_train"
      ],
      "metadata": {
        "colab": {
          "base_uri": "https://localhost:8080/"
        },
        "id": "KiExrgEuuYbw",
        "outputId": "c9b22af7-1fa6-4494-d8ab-3d5579e847be"
      },
      "execution_count": null,
      "outputs": [
        {
          "output_type": "execute_result",
          "data": {
            "text/plain": [
              "280    0\n",
              "487    0\n",
              "317    1\n",
              "52     0\n",
              "163    0\n",
              "      ..\n",
              "523    0\n",
              "422    0\n",
              "10     1\n",
              "145    0\n",
              "240    0\n",
              "Name: WAGE, Length: 427, dtype: category\n",
              "Categories (2, object): ['0' < '1']"
            ]
          },
          "metadata": {},
          "execution_count": 54
        }
      ]
    },
    {
      "cell_type": "markdown",
      "source": [
        "### 3 Logistic Regression in Python\n",
        "\n",
        "Our first model we apply is a simple Logistic Regression. As we focus on prediction we don't care about coefficients as we normally would know it from R. We use our train- and testset to fit our classifier on and afterwards use our trained model to predict on an out-of-sample. We can evaluate our results with a widely-used metric called F1 Score."
      ],
      "metadata": {
        "id": "q7Wpguj0nTv_"
      }
    },
    {
      "cell_type": "code",
      "source": [
        "from sklearn.linear_model import LogisticRegression\n",
        "from sklearn.metrics import f1_score\n",
        "\n",
        "# Train classifier with default parameters\n",
        "clf = LogisticRegression(random_state=20230201)\n",
        "clf.fit(X_train, y_train) # adapt the logistic regression algorithm to our training data\n",
        "\n",
        "# Predict on test set\n",
        "y_pred = clf.predict(X_test) # do an out-of-sample prediction on the test set using our trained classifier\n",
        "\n",
        "# Print results\n",
        "print(\"F1 score:\", f1_score(y_test, y_pred, average=\"weighted\"))"
      ],
      "metadata": {
        "id": "995AMmwLnYdi",
        "colab": {
          "base_uri": "https://localhost:8080/"
        },
        "outputId": "880d3bae-46ae-4322-9dbe-cd536ac9b0f8"
      },
      "execution_count": null,
      "outputs": [
        {
          "output_type": "stream",
          "name": "stdout",
          "text": [
            "F1 score: 0.6115972766717637\n"
          ]
        }
      ]
    },
    {
      "cell_type": "markdown",
      "source": [
        "This is our first result on a Logistic Regression using default parameters. The following function gives us this default setting:"
      ],
      "metadata": {
        "id": "U8bAJtrAeZ_u"
      }
    },
    {
      "cell_type": "code",
      "source": [
        "LogisticRegression().get_params().keys()"
      ],
      "metadata": {
        "colab": {
          "base_uri": "https://localhost:8080/"
        },
        "id": "cMoH5seEI81x",
        "outputId": "0d66c97b-479a-497b-e06f-090e8377b398"
      },
      "execution_count": null,
      "outputs": [
        {
          "output_type": "execute_result",
          "data": {
            "text/plain": [
              "dict_keys(['C', 'class_weight', 'dual', 'fit_intercept', 'intercept_scaling', 'l1_ratio', 'max_iter', 'multi_class', 'n_jobs', 'penalty', 'random_state', 'solver', 'tol', 'verbose', 'warm_start'])"
            ]
          },
          "metadata": {},
          "execution_count": 58
        }
      ]
    },
    {
      "cell_type": "markdown",
      "source": [
        "As we want to optimize our model to get better results, we should always try to tune its so-called hyperparameters. We define a range of suitable parameters and run a grid search to estimate the best parameter on our data."
      ],
      "metadata": {
        "id": "4RzS66eIekCo"
      }
    },
    {
      "cell_type": "code",
      "source": [
        "import numpy as np\n",
        "\n",
        "# Generate integers spaced evenly on a log scale with base 1.5\n",
        "C = list(set(np.logspace(1, 20, base=1.5, dtype='int')))\n",
        "print(f\"C: {C}\")\n",
        "\n",
        "param_grid = [\n",
        "  {'C': C,\n",
        "   'class_weight': [\"balanced\", None],\n",
        "   'solver': ['newton-cg', 'lbfgs', 'liblinear']\n",
        "   }]"
      ],
      "metadata": {
        "id": "BI-VKcWPHOkX",
        "colab": {
          "base_uri": "https://localhost:8080/"
        },
        "outputId": "e2c102fc-6a21-459e-f01d-8a62f1b4ae0d"
      },
      "execution_count": null,
      "outputs": [
        {
          "output_type": "stream",
          "name": "stdout",
          "text": [
            "C: [1, 2, 3, 4, 5, 6, 7, 8, 9, 11, 268, 13, 1294, 15, 143, 18, 21, 25, 2074, 2841, 29, 34, 167, 40, 807, 430, 47, 945, 690, 55, 314, 65, 196, 76, 589, 1106, 89, 229, 104, 1515, 1772, 368, 504, 122, 2428, 3325]\n"
          ]
        }
      ]
    },
    {
      "cell_type": "code",
      "source": [
        "# Set up Random Grid Search\n",
        "grid = RandomizedSearchCV(LogisticRegression(random_state=20230201), \n",
        "                          param_distributions = param_grid, \n",
        "                          n_iter=100, \n",
        "                          verbose=1,\n",
        "                          cv=5,\n",
        "                          random_state=20230201, \n",
        "                          refit=True,\n",
        "                          n_jobs=-1)\n",
        "\n",
        "# Save results in dataframe\n",
        "results = grid.fit(X_train, y_train)\n",
        "\n",
        "# Print best params\n",
        "print(grid.best_params_)"
      ],
      "metadata": {
        "id": "lGlAC16jd7aq",
        "colab": {
          "base_uri": "https://localhost:8080/"
        },
        "outputId": "106b1fbd-d4fd-4e0d-c8f5-27ce3413e6fd"
      },
      "execution_count": null,
      "outputs": [
        {
          "output_type": "stream",
          "name": "stdout",
          "text": [
            "Fitting 5 folds for each of 100 candidates, totalling 500 fits\n",
            "{'solver': 'lbfgs', 'class_weight': None, 'C': 6}\n"
          ]
        }
      ]
    },
    {
      "cell_type": "markdown",
      "source": [
        "Using the best model fitted on the hyperparameters above we can do another prediction on the unseen testset and calculate our new F1 Score:"
      ],
      "metadata": {
        "id": "bDKlXMaue76t"
      }
    },
    {
      "cell_type": "code",
      "source": [
        "# Predict with best model\n",
        "y_pred = results.best_estimator_.predict(X_test) # do an out-of-sample prediction on the test set using our tuned classifier\n",
        "\n",
        "# Print results\n",
        "print(\"F1 score:\", f1_score(y_test, y_pred, average=\"weighted\"))"
      ],
      "metadata": {
        "id": "UVWM0vsPeUvK",
        "colab": {
          "base_uri": "https://localhost:8080/"
        },
        "outputId": "c23899f5-0030-4987-bc7b-153ee18edd65"
      },
      "execution_count": null,
      "outputs": [
        {
          "output_type": "stream",
          "name": "stdout",
          "text": [
            "F1 score: 0.6115972766717637\n"
          ]
        }
      ]
    },
    {
      "cell_type": "markdown",
      "source": [
        "It seems that this did not increase our performance. There are cases were the default parameters are already the best choice - but there exist also cases were tuning produces significant better models!"
      ],
      "metadata": {
        "id": "qUihxbp6fEtE"
      }
    },
    {
      "cell_type": "markdown",
      "source": [
        "### 4 Random Forest in Python\n",
        "\n",
        "When applying machine learning we always should try out different models. Hence, we use a Random Forest model as a second classifier. You already know the upcoming steps:\n",
        "\n",
        "\n",
        "1.   Select and initialize the model\n",
        "2.   Check performance of the model with default hyperparameters\n",
        "3.   Define Hyperparameter ranges\n",
        "4.   Run Grid Search\n",
        "5.   Compare results of both models (tuned and untuned)"
      ],
      "metadata": {
        "id": "ZyKQEvqblrOk"
      }
    },
    {
      "cell_type": "code",
      "source": [
        "from sklearn.ensemble import RandomForestClassifier\n",
        "from sklearn.metrics import f1_score\n",
        "\n",
        "# Train classifier with default parameters\n",
        "clf = RandomForestClassifier(random_state=20220725)\n",
        "clf.fit(X_train, y_train) # adapt the random forest algorithm to our training data\n",
        "\n",
        "# Predict on test set\n",
        "y_pred = clf.predict(X_test) # do an out-of-sample prediction on the test set using our trained classifier\n",
        "\n",
        "# Print results\n",
        "print(\"F1 score:\", f1_score(y_test, y_pred, average=\"weighted\"))"
      ],
      "metadata": {
        "colab": {
          "base_uri": "https://localhost:8080/"
        },
        "id": "iKCr4Ylb8e1b",
        "outputId": "fc91570e-bafb-4888-cd3c-401b97431dc0"
      },
      "execution_count": null,
      "outputs": [
        {
          "output_type": "stream",
          "name": "stdout",
          "text": [
            "F1 score: 0.6716753772646388\n"
          ]
        }
      ]
    },
    {
      "cell_type": "code",
      "source": [
        "import random as random\n",
        "import pandas as pd\n",
        "\n",
        "# Generate 50 random integers between 1 and 1000 and add them to the n_est list\n",
        "n_est = []\n",
        "[n_est.append(random.randint(1, 1000)) for i in range(0, 50)]\n",
        "print(f\"n_est: {n_est}\")\n",
        "\n",
        "# Generate 50 random integers between 1 and 100 and add them to the max_depth list\n",
        "max_depth = []\n",
        "[max_depth.append(random.randint(1, 100)) for i in range(0, 50)]\n",
        "print(f\"max_depth: {max_depth}\")\n",
        "\n",
        "# Set up paramater grid to tune with (data type: dictionary)\n",
        "param_grid = [\n",
        "  {'bootstrap': [True, False],\n",
        "  'max_features': ['auto', 'sqrt'],\n",
        "   'min_samples_leaf': [1, 2, 4],\n",
        "   'min_samples_split': [2, 5, 10],\n",
        "   'n_estimators': list(set(n_est)),\n",
        "   'criterion': [\"gini\", \"entropy\"],\n",
        "   'max_depth': list(set(max_depth)) + [None],\n",
        "   'class_weight': [\"balanced\", None]}\n",
        "  ]"
      ],
      "metadata": {
        "colab": {
          "base_uri": "https://localhost:8080/"
        },
        "id": "9u4lu2zk858o",
        "outputId": "e9a05e6f-f39c-4333-b25b-3934b63315a6"
      },
      "execution_count": null,
      "outputs": [
        {
          "output_type": "stream",
          "name": "stdout",
          "text": [
            "n_est: [402, 113, 350, 806, 995, 686, 664, 138, 567, 81, 953, 708, 472, 342, 628, 514, 743, 384, 973, 289, 204, 49, 957, 472, 400, 404, 530, 951, 646, 285, 655, 70, 744, 787, 116, 387, 583, 422, 545, 678, 332, 134, 912, 848, 428, 111, 270, 267, 689, 829].\n",
            "max_depth: [39, 58, 83, 83, 88, 59, 94, 66, 71, 26, 62, 33, 73, 37, 72, 29, 30, 37, 83, 3, 5, 59, 37, 99, 74, 92, 93, 71, 3, 69, 53, 45, 31, 59, 92, 100, 42, 2, 68, 34, 43, 33, 16, 42, 26, 38, 86, 75, 3, 66].\n"
          ]
        }
      ]
    },
    {
      "cell_type": "code",
      "source": [
        "# Set up Random Grid Search\n",
        "grid = RandomizedSearchCV(RandomForestClassifier(), \n",
        "                          param_distributions = param_grid, \n",
        "                          n_iter=100, \n",
        "                          verbose=1,\n",
        "                          cv=5,\n",
        "                          random_state=20230201, \n",
        "                          refit=True,\n",
        "                          n_jobs=-1)\n",
        "\n",
        "# Save results in dataframe\n",
        "results = grid.fit(X_train, y_train)\n",
        "\n",
        "# Print best params\n",
        "print(grid.best_params_)"
      ],
      "metadata": {
        "colab": {
          "base_uri": "https://localhost:8080/"
        },
        "id": "cV5BB05rG7LT",
        "outputId": "c2c6ce58-3a27-44eb-abd0-5a88cf253ed8"
      },
      "execution_count": null,
      "outputs": [
        {
          "output_type": "stream",
          "name": "stdout",
          "text": [
            "Fitting 5 folds for each of 100 candidates, totalling 500 fits\n",
            "{'n_estimators': 920, 'min_samples_split': 10, 'min_samples_leaf': 4, 'max_features': 'sqrt', 'max_depth': 79, 'criterion': 'gini', 'class_weight': 'balanced', 'bootstrap': False}\n"
          ]
        }
      ]
    },
    {
      "cell_type": "code",
      "source": [
        "# Predict with best model\n",
        "y_pred = results.best_estimator_.predict(X_test)\n",
        "\n",
        "# Print results\n",
        "print(\"F1 score:\", f1_score(y_test, y_pred, average=\"weighted\"))"
      ],
      "metadata": {
        "colab": {
          "base_uri": "https://localhost:8080/"
        },
        "id": "ViJXcvJr9lip",
        "outputId": "22a85698-d9f5-4c46-fec1-9fc3af35dac6"
      },
      "execution_count": null,
      "outputs": [
        {
          "output_type": "stream",
          "name": "stdout",
          "text": [
            "F1 score: 0.7372154325425354\n"
          ]
        }
      ]
    },
    {
      "cell_type": "markdown",
      "source": [
        "The F1 Scores of both Random Forest models highlight two main takeaways: First, the hyperparameter tuning was quite fruitul for the Random Forest case. Second, a Random Forest seems to be more useful for prediction on this dataset than a Logistic Regression.\n",
        "\n",
        "As we stick to the Random Forest, lets check what the importance of each feature for the model is. This can easily be achieved as follows:"
      ],
      "metadata": {
        "id": "YoAD-uKvfzAZ"
      }
    },
    {
      "cell_type": "code",
      "source": [
        "pd.DataFrame({\"Feature\": X_test.columns,\n",
        "              \"Importance\": results.best_estimator_.feature_importances_}).sort_values('Importance', ascending=False)"
      ],
      "metadata": {
        "colab": {
          "base_uri": "https://localhost:8080/",
          "height": 143
        },
        "id": "q3IO6oxqVr4T",
        "outputId": "137152cd-fcac-4c46-e0ee-1555762139ea"
      },
      "execution_count": null,
      "outputs": [
        {
          "output_type": "execute_result",
          "data": {
            "text/plain": [
              "      Feature  Importance\n",
              "1  OCCUPATION    0.781869\n",
              "0         SEX    0.117869\n",
              "2        MARR    0.100261"
            ],
            "text/html": [
              "\n",
              "  <div id=\"df-99b0bd91-0e14-4af7-b00f-545f05ce65ee\">\n",
              "    <div class=\"colab-df-container\">\n",
              "      <div>\n",
              "<style scoped>\n",
              "    .dataframe tbody tr th:only-of-type {\n",
              "        vertical-align: middle;\n",
              "    }\n",
              "\n",
              "    .dataframe tbody tr th {\n",
              "        vertical-align: top;\n",
              "    }\n",
              "\n",
              "    .dataframe thead th {\n",
              "        text-align: right;\n",
              "    }\n",
              "</style>\n",
              "<table border=\"1\" class=\"dataframe\">\n",
              "  <thead>\n",
              "    <tr style=\"text-align: right;\">\n",
              "      <th></th>\n",
              "      <th>Feature</th>\n",
              "      <th>Importance</th>\n",
              "    </tr>\n",
              "  </thead>\n",
              "  <tbody>\n",
              "    <tr>\n",
              "      <th>1</th>\n",
              "      <td>OCCUPATION</td>\n",
              "      <td>0.781869</td>\n",
              "    </tr>\n",
              "    <tr>\n",
              "      <th>0</th>\n",
              "      <td>SEX</td>\n",
              "      <td>0.117869</td>\n",
              "    </tr>\n",
              "    <tr>\n",
              "      <th>2</th>\n",
              "      <td>MARR</td>\n",
              "      <td>0.100261</td>\n",
              "    </tr>\n",
              "  </tbody>\n",
              "</table>\n",
              "</div>\n",
              "      <button class=\"colab-df-convert\" onclick=\"convertToInteractive('df-99b0bd91-0e14-4af7-b00f-545f05ce65ee')\"\n",
              "              title=\"Convert this dataframe to an interactive table.\"\n",
              "              style=\"display:none;\">\n",
              "        \n",
              "  <svg xmlns=\"http://www.w3.org/2000/svg\" height=\"24px\"viewBox=\"0 0 24 24\"\n",
              "       width=\"24px\">\n",
              "    <path d=\"M0 0h24v24H0V0z\" fill=\"none\"/>\n",
              "    <path d=\"M18.56 5.44l.94 2.06.94-2.06 2.06-.94-2.06-.94-.94-2.06-.94 2.06-2.06.94zm-11 1L8.5 8.5l.94-2.06 2.06-.94-2.06-.94L8.5 2.5l-.94 2.06-2.06.94zm10 10l.94 2.06.94-2.06 2.06-.94-2.06-.94-.94-2.06-.94 2.06-2.06.94z\"/><path d=\"M17.41 7.96l-1.37-1.37c-.4-.4-.92-.59-1.43-.59-.52 0-1.04.2-1.43.59L10.3 9.45l-7.72 7.72c-.78.78-.78 2.05 0 2.83L4 21.41c.39.39.9.59 1.41.59.51 0 1.02-.2 1.41-.59l7.78-7.78 2.81-2.81c.8-.78.8-2.07 0-2.86zM5.41 20L4 18.59l7.72-7.72 1.47 1.35L5.41 20z\"/>\n",
              "  </svg>\n",
              "      </button>\n",
              "      \n",
              "  <style>\n",
              "    .colab-df-container {\n",
              "      display:flex;\n",
              "      flex-wrap:wrap;\n",
              "      gap: 12px;\n",
              "    }\n",
              "\n",
              "    .colab-df-convert {\n",
              "      background-color: #E8F0FE;\n",
              "      border: none;\n",
              "      border-radius: 50%;\n",
              "      cursor: pointer;\n",
              "      display: none;\n",
              "      fill: #1967D2;\n",
              "      height: 32px;\n",
              "      padding: 0 0 0 0;\n",
              "      width: 32px;\n",
              "    }\n",
              "\n",
              "    .colab-df-convert:hover {\n",
              "      background-color: #E2EBFA;\n",
              "      box-shadow: 0px 1px 2px rgba(60, 64, 67, 0.3), 0px 1px 3px 1px rgba(60, 64, 67, 0.15);\n",
              "      fill: #174EA6;\n",
              "    }\n",
              "\n",
              "    [theme=dark] .colab-df-convert {\n",
              "      background-color: #3B4455;\n",
              "      fill: #D2E3FC;\n",
              "    }\n",
              "\n",
              "    [theme=dark] .colab-df-convert:hover {\n",
              "      background-color: #434B5C;\n",
              "      box-shadow: 0px 1px 3px 1px rgba(0, 0, 0, 0.15);\n",
              "      filter: drop-shadow(0px 1px 2px rgba(0, 0, 0, 0.3));\n",
              "      fill: #FFFFFF;\n",
              "    }\n",
              "  </style>\n",
              "\n",
              "      <script>\n",
              "        const buttonEl =\n",
              "          document.querySelector('#df-99b0bd91-0e14-4af7-b00f-545f05ce65ee button.colab-df-convert');\n",
              "        buttonEl.style.display =\n",
              "          google.colab.kernel.accessAllowed ? 'block' : 'none';\n",
              "\n",
              "        async function convertToInteractive(key) {\n",
              "          const element = document.querySelector('#df-99b0bd91-0e14-4af7-b00f-545f05ce65ee');\n",
              "          const dataTable =\n",
              "            await google.colab.kernel.invokeFunction('convertToInteractive',\n",
              "                                                     [key], {});\n",
              "          if (!dataTable) return;\n",
              "\n",
              "          const docLinkHtml = 'Like what you see? Visit the ' +\n",
              "            '<a target=\"_blank\" href=https://colab.research.google.com/notebooks/data_table.ipynb>data table notebook</a>'\n",
              "            + ' to learn more about interactive tables.';\n",
              "          element.innerHTML = '';\n",
              "          dataTable['output_type'] = 'display_data';\n",
              "          await google.colab.output.renderOutput(dataTable, element);\n",
              "          const docLink = document.createElement('div');\n",
              "          docLink.innerHTML = docLinkHtml;\n",
              "          element.appendChild(docLink);\n",
              "        }\n",
              "      </script>\n",
              "    </div>\n",
              "  </div>\n",
              "  "
            ]
          },
          "metadata": {},
          "execution_count": 66
        }
      ]
    },
    {
      "cell_type": "markdown",
      "source": [
        "Occupation has the highest importance, followed by sex and whether someone is married or not. But you should be cautious: These values cannot be directly used for further interpretation as you probably would tend to do with a OLS regression model in R. It gives a general indication of how the model made a decision."
      ],
      "metadata": {
        "id": "EXK7jAwBgaX4"
      }
    },
    {
      "cell_type": "markdown",
      "source": [
        "### 5 Conclusion\n",
        "\n",
        "This notebook shows how to apply frequently used packages and their function on a familiar data environment. We focused on some visualisation, pre-precessing of data and different classification algorithms in Python.\n",
        "\n",
        "Let's conclude with a short outlook:\n",
        "1. As you already know from similar packages in R such as dplyr or purrr, there are many more functionalities coming with `pandas`. A useful cheatsheet of the package can be found here: [Pandas Cheatsheet](https://pandas.pydata.org/Pandas_Cheat_Sheet.pdf)\n",
        "2. `scikit-learn` offers many more algorithms and ways to evaulate and configure regression and classification models. A great overview can be found on their Website: [How to choose the right estimator?](https://scikit-learn.org/stable/tutorial/machine_learning_map/index.html)\n",
        "3. Beyond `scikit-learn` you should also consider `TensorFlow` or `PyTorch` for applying Deep Learning algorithms in Python. For the first you find a bunch of tutorials on their official [Website](https://www.tensorflow.org/tutorials), the latter comes with a great [YouTube Series](https://pytorch.org/tutorials/beginner/introyt.html) and hands-on Google Colab Notebooks\n",
        "4. Most important: Python is not only about Machine Learning. It can do much more from creating fancy dashboards using [`Plotly`](https://plotly.com/dash) to sophisicated analysis based on extremley large (unstructured) data sources (e.g. with [`Dask`](https://www.dask.org/) or [`PySpark`](https://spark.apache.org/docs/latest/api/python/))\n",
        "\n",
        "Thank you very much for joining Day 2 of the Python for Social Scientists Workshop!"
      ],
      "metadata": {
        "id": "KHYL6TcYndPO"
      }
    }
  ]
}