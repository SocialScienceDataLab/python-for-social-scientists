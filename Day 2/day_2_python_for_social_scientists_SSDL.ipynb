{
  "nbformat": 4,
  "nbformat_minor": 0,
  "metadata": {
    "colab": {
      "provenance": [],
      "collapsed_sections": [
        "XKxZk_dhnLO5",
        "q7Wpguj0nTv_",
        "ZyKQEvqblrOk"
      ],
      "authorship_tag": "ABX9TyPirNDeMaT8iqS9NhbD1ntL",
      "include_colab_link": true
    },
    "kernelspec": {
      "name": "python3",
      "display_name": "Python 3"
    },
    "language_info": {
      "name": "python"
    }
  },
  "cells": [
    {
      "cell_type": "markdown",
      "metadata": {
        "id": "view-in-github",
        "colab_type": "text"
      },
      "source": [
        "<a href=\"https://colab.research.google.com/github/andreaskuepfer/python-for-social-scientists/blob/main/Day%202/day_2_python_for_social_scientists_SSDL.ipynb\" target=\"_parent\"><img src=\"https://colab.research.google.com/assets/colab-badge.svg\" alt=\"Open In Colab\"/></a>"
      ]
    },
    {
      "cell_type": "markdown",
      "source": [
        "## Workshop Day 2: Python for Social Scientists at SSDL Methods Lab"
      ],
      "metadata": {
        "id": "r7LURDLRls9X"
      }
    },
    {
      "cell_type": "markdown",
      "source": [
        "Today we want to work with the wage dataset from the *1985 Current Population Survey*. More information on the dataset can be found [here](https://www.openml.org/search?type=data&sort=runs&id=534&status=active).\n",
        "\n",
        "This workshop is divided into four sections:\n",
        "\n",
        "1. First, we have to load the dataset into Python and take a look at its specifics.\n",
        "2. Second, we are going to apply a logistic regression model based on the machine learning library `scikit-learn` for Python.\n",
        "3. Third, we stick to `scikit-learn` but work with a random forest model.\n",
        "4. Last and but least we wrap everything up with a short conclusion including an interpretation of the applied models and which further steps could be applied now."
      ],
      "metadata": {
        "id": "g1RFUSgrl2VA"
      }
    },
    {
      "cell_type": "markdown",
      "source": [
        "### Load the Dataset & Explore the Data"
      ],
      "metadata": {
        "id": "XKxZk_dhnLO5"
      }
    },
    {
      "cell_type": "markdown",
      "source": [
        "The following packages are all we need for this workshop:\n",
        "\n",
        "* `pandas` (https://pandas.pydata.org/docs/)\n",
        "* `matplotlib` (https://matplotlib.org/)\n",
        "* `sklearn` (https://scikit-learn.org/stable/)\n",
        "* `seaborn`: (https://seaborn.pydata.org/)\n",
        "\n",
        "They can be automatically installed (if not available) using the package manager pip and the following code chunk:"
      ],
      "metadata": {
        "id": "jD7aLCHxop5U"
      }
    },
    {
      "cell_type": "code",
      "source": [
        "import importlib.util\n",
        "import os\n",
        "\n",
        "# Check for missing packages\n",
        "def check_pkg(package):\n",
        "  if importlib.util.find_spec(package):\n",
        "    return(f\"{package} already in sys.modules\")\n",
        "  else:\n",
        "    os.system(\"pip install {0}\".format(package))\n",
        "    return(f\"{package} installed.\")\n",
        "\n",
        "packages = [\"pandas\", \"matplotlib\", \"sklearn\", \"seaborn\", \"treeinterpreter\"]\n",
        "[check_pkg(package) for package in packages]"
      ],
      "metadata": {
        "colab": {
          "base_uri": "https://localhost:8080/"
        },
        "id": "oZaeDGX_jEmQ",
        "outputId": "448e0d52-4771-4b2d-b112-9ed1a5438809"
      },
      "execution_count": null,
      "outputs": [
        {
          "output_type": "execute_result",
          "data": {
            "text/plain": [
              "['pandas already in sys.modules',\n",
              " 'matplotlib already in sys.modules',\n",
              " 'sklearn already in sys.modules',\n",
              " 'seaborn already in sys.modules',\n",
              " 'treeinterpreter already in sys.modules']"
            ]
          },
          "metadata": {},
          "execution_count": 464
        }
      ]
    },
    {
      "cell_type": "code",
      "source": [
        "# Import needed functionalities\n",
        "from sklearn.datasets import fetch_openml\n",
        "# Alternative to import all functions from a package:\n",
        "# import sklearn\n",
        "\n",
        "# Call fetch_open function to fetch dataset\n",
        "# Current Population Survey (CPS) from 1985 (random sample of 534 persons)\n",
        "wages_survey_raw = fetch_openml(data_id=534, as_frame=True)\n",
        "\n",
        "# A brief overview over all variables in the dataset:\n",
        "# WAGE: Wage (dollars per hour).\n",
        "# AGE: Age (years).\n",
        "# RACE: Race (1=Other, 2=Hispanic, 3=White).\n",
        "# EDUCATION: Number of years of education.\n",
        "# SOUTH: Indicator variable for Southern Region (1=Person lives in South, 0=Person lives elsewhere).\n",
        "# SEX: Indicator variable for sex (1=Female, 0=Male). EXPERIENCE: Number of years of work experience.\n",
        "# UNION: Indicator variable for union membership (1=Union member, 0=Not union member).\n",
        "# OCCUPATION: Occupational category (1=Management, 2=Sales, 3=Clerical, 4=Service, 5=Professional, 6=Other).\n",
        "# SECTOR: Sector (0=Other, 1=Manufacturing, 2=Construction).\n",
        "# MARR: Marital Status (0=Unmarried, 1=Married)"
      ],
      "metadata": {
        "id": "QYAnwUE4jZrB"
      },
      "execution_count": null,
      "outputs": []
    },
    {
      "cell_type": "code",
      "source": [
        "# Bring the predictors of the dataset into a suitable format (datframe)\n",
        "wages_survey_X = wages_survey_raw.data[wages_survey_raw.feature_names]\n",
        "# Ask Python for some descriptive statistics of the predictors\n",
        "wages_survey_X.describe(include=\"all\")"
      ],
      "metadata": {
        "colab": {
          "base_uri": "https://localhost:8080/"
        },
        "id": "_IP1ZCPrN_rC",
        "outputId": "9b73e8b1-6b50-445b-9334-eb1166a9e663"
      },
      "execution_count": null,
      "outputs": [
        {
          "output_type": "execute_result",
          "data": {
            "text/plain": [
              "         EDUCATION SOUTH   SEX  EXPERIENCE       UNION         AGE   RACE  \\\n",
              "count   534.000000   534   534  534.000000         534  534.000000    534   \n",
              "unique         NaN     2     2         NaN           2         NaN      3   \n",
              "top            NaN    no  male         NaN  not_member         NaN  White   \n",
              "freq           NaN   378   289         NaN         438         NaN    440   \n",
              "mean     13.018727   NaN   NaN   17.822097         NaN   36.833333    NaN   \n",
              "std       2.615373   NaN   NaN   12.379710         NaN   11.726573    NaN   \n",
              "min       2.000000   NaN   NaN    0.000000         NaN   18.000000    NaN   \n",
              "25%      12.000000   NaN   NaN    8.000000         NaN   28.000000    NaN   \n",
              "50%      12.000000   NaN   NaN   15.000000         NaN   35.000000    NaN   \n",
              "75%      15.000000   NaN   NaN   26.000000         NaN   44.000000    NaN   \n",
              "max      18.000000   NaN   NaN   55.000000         NaN   64.000000    NaN   \n",
              "\n",
              "       OCCUPATION SECTOR     MARR  \n",
              "count         534    534      534  \n",
              "unique          6      3        2  \n",
              "top         Other  Other  Married  \n",
              "freq          156    411      350  \n",
              "mean          NaN    NaN      NaN  \n",
              "std           NaN    NaN      NaN  \n",
              "min           NaN    NaN      NaN  \n",
              "25%           NaN    NaN      NaN  \n",
              "50%           NaN    NaN      NaN  \n",
              "75%           NaN    NaN      NaN  \n",
              "max           NaN    NaN      NaN  "
            ],
            "text/html": [
              "\n",
              "  <div id=\"df-72875d86-7029-4e3d-a08f-6205b8a3fbec\">\n",
              "    <div class=\"colab-df-container\">\n",
              "      <div>\n",
              "<style scoped>\n",
              "    .dataframe tbody tr th:only-of-type {\n",
              "        vertical-align: middle;\n",
              "    }\n",
              "\n",
              "    .dataframe tbody tr th {\n",
              "        vertical-align: top;\n",
              "    }\n",
              "\n",
              "    .dataframe thead th {\n",
              "        text-align: right;\n",
              "    }\n",
              "</style>\n",
              "<table border=\"1\" class=\"dataframe\">\n",
              "  <thead>\n",
              "    <tr style=\"text-align: right;\">\n",
              "      <th></th>\n",
              "      <th>EDUCATION</th>\n",
              "      <th>SOUTH</th>\n",
              "      <th>SEX</th>\n",
              "      <th>EXPERIENCE</th>\n",
              "      <th>UNION</th>\n",
              "      <th>AGE</th>\n",
              "      <th>RACE</th>\n",
              "      <th>OCCUPATION</th>\n",
              "      <th>SECTOR</th>\n",
              "      <th>MARR</th>\n",
              "    </tr>\n",
              "  </thead>\n",
              "  <tbody>\n",
              "    <tr>\n",
              "      <th>count</th>\n",
              "      <td>534.000000</td>\n",
              "      <td>534</td>\n",
              "      <td>534</td>\n",
              "      <td>534.000000</td>\n",
              "      <td>534</td>\n",
              "      <td>534.000000</td>\n",
              "      <td>534</td>\n",
              "      <td>534</td>\n",
              "      <td>534</td>\n",
              "      <td>534</td>\n",
              "    </tr>\n",
              "    <tr>\n",
              "      <th>unique</th>\n",
              "      <td>NaN</td>\n",
              "      <td>2</td>\n",
              "      <td>2</td>\n",
              "      <td>NaN</td>\n",
              "      <td>2</td>\n",
              "      <td>NaN</td>\n",
              "      <td>3</td>\n",
              "      <td>6</td>\n",
              "      <td>3</td>\n",
              "      <td>2</td>\n",
              "    </tr>\n",
              "    <tr>\n",
              "      <th>top</th>\n",
              "      <td>NaN</td>\n",
              "      <td>no</td>\n",
              "      <td>male</td>\n",
              "      <td>NaN</td>\n",
              "      <td>not_member</td>\n",
              "      <td>NaN</td>\n",
              "      <td>White</td>\n",
              "      <td>Other</td>\n",
              "      <td>Other</td>\n",
              "      <td>Married</td>\n",
              "    </tr>\n",
              "    <tr>\n",
              "      <th>freq</th>\n",
              "      <td>NaN</td>\n",
              "      <td>378</td>\n",
              "      <td>289</td>\n",
              "      <td>NaN</td>\n",
              "      <td>438</td>\n",
              "      <td>NaN</td>\n",
              "      <td>440</td>\n",
              "      <td>156</td>\n",
              "      <td>411</td>\n",
              "      <td>350</td>\n",
              "    </tr>\n",
              "    <tr>\n",
              "      <th>mean</th>\n",
              "      <td>13.018727</td>\n",
              "      <td>NaN</td>\n",
              "      <td>NaN</td>\n",
              "      <td>17.822097</td>\n",
              "      <td>NaN</td>\n",
              "      <td>36.833333</td>\n",
              "      <td>NaN</td>\n",
              "      <td>NaN</td>\n",
              "      <td>NaN</td>\n",
              "      <td>NaN</td>\n",
              "    </tr>\n",
              "    <tr>\n",
              "      <th>std</th>\n",
              "      <td>2.615373</td>\n",
              "      <td>NaN</td>\n",
              "      <td>NaN</td>\n",
              "      <td>12.379710</td>\n",
              "      <td>NaN</td>\n",
              "      <td>11.726573</td>\n",
              "      <td>NaN</td>\n",
              "      <td>NaN</td>\n",
              "      <td>NaN</td>\n",
              "      <td>NaN</td>\n",
              "    </tr>\n",
              "    <tr>\n",
              "      <th>min</th>\n",
              "      <td>2.000000</td>\n",
              "      <td>NaN</td>\n",
              "      <td>NaN</td>\n",
              "      <td>0.000000</td>\n",
              "      <td>NaN</td>\n",
              "      <td>18.000000</td>\n",
              "      <td>NaN</td>\n",
              "      <td>NaN</td>\n",
              "      <td>NaN</td>\n",
              "      <td>NaN</td>\n",
              "    </tr>\n",
              "    <tr>\n",
              "      <th>25%</th>\n",
              "      <td>12.000000</td>\n",
              "      <td>NaN</td>\n",
              "      <td>NaN</td>\n",
              "      <td>8.000000</td>\n",
              "      <td>NaN</td>\n",
              "      <td>28.000000</td>\n",
              "      <td>NaN</td>\n",
              "      <td>NaN</td>\n",
              "      <td>NaN</td>\n",
              "      <td>NaN</td>\n",
              "    </tr>\n",
              "    <tr>\n",
              "      <th>50%</th>\n",
              "      <td>12.000000</td>\n",
              "      <td>NaN</td>\n",
              "      <td>NaN</td>\n",
              "      <td>15.000000</td>\n",
              "      <td>NaN</td>\n",
              "      <td>35.000000</td>\n",
              "      <td>NaN</td>\n",
              "      <td>NaN</td>\n",
              "      <td>NaN</td>\n",
              "      <td>NaN</td>\n",
              "    </tr>\n",
              "    <tr>\n",
              "      <th>75%</th>\n",
              "      <td>15.000000</td>\n",
              "      <td>NaN</td>\n",
              "      <td>NaN</td>\n",
              "      <td>26.000000</td>\n",
              "      <td>NaN</td>\n",
              "      <td>44.000000</td>\n",
              "      <td>NaN</td>\n",
              "      <td>NaN</td>\n",
              "      <td>NaN</td>\n",
              "      <td>NaN</td>\n",
              "    </tr>\n",
              "    <tr>\n",
              "      <th>max</th>\n",
              "      <td>18.000000</td>\n",
              "      <td>NaN</td>\n",
              "      <td>NaN</td>\n",
              "      <td>55.000000</td>\n",
              "      <td>NaN</td>\n",
              "      <td>64.000000</td>\n",
              "      <td>NaN</td>\n",
              "      <td>NaN</td>\n",
              "      <td>NaN</td>\n",
              "      <td>NaN</td>\n",
              "    </tr>\n",
              "  </tbody>\n",
              "</table>\n",
              "</div>\n",
              "      <button class=\"colab-df-convert\" onclick=\"convertToInteractive('df-72875d86-7029-4e3d-a08f-6205b8a3fbec')\"\n",
              "              title=\"Convert this dataframe to an interactive table.\"\n",
              "              style=\"display:none;\">\n",
              "        \n",
              "  <svg xmlns=\"http://www.w3.org/2000/svg\" height=\"24px\"viewBox=\"0 0 24 24\"\n",
              "       width=\"24px\">\n",
              "    <path d=\"M0 0h24v24H0V0z\" fill=\"none\"/>\n",
              "    <path d=\"M18.56 5.44l.94 2.06.94-2.06 2.06-.94-2.06-.94-.94-2.06-.94 2.06-2.06.94zm-11 1L8.5 8.5l.94-2.06 2.06-.94-2.06-.94L8.5 2.5l-.94 2.06-2.06.94zm10 10l.94 2.06.94-2.06 2.06-.94-2.06-.94-.94-2.06-.94 2.06-2.06.94z\"/><path d=\"M17.41 7.96l-1.37-1.37c-.4-.4-.92-.59-1.43-.59-.52 0-1.04.2-1.43.59L10.3 9.45l-7.72 7.72c-.78.78-.78 2.05 0 2.83L4 21.41c.39.39.9.59 1.41.59.51 0 1.02-.2 1.41-.59l7.78-7.78 2.81-2.81c.8-.78.8-2.07 0-2.86zM5.41 20L4 18.59l7.72-7.72 1.47 1.35L5.41 20z\"/>\n",
              "  </svg>\n",
              "      </button>\n",
              "      \n",
              "  <style>\n",
              "    .colab-df-container {\n",
              "      display:flex;\n",
              "      flex-wrap:wrap;\n",
              "      gap: 12px;\n",
              "    }\n",
              "\n",
              "    .colab-df-convert {\n",
              "      background-color: #E8F0FE;\n",
              "      border: none;\n",
              "      border-radius: 50%;\n",
              "      cursor: pointer;\n",
              "      display: none;\n",
              "      fill: #1967D2;\n",
              "      height: 32px;\n",
              "      padding: 0 0 0 0;\n",
              "      width: 32px;\n",
              "    }\n",
              "\n",
              "    .colab-df-convert:hover {\n",
              "      background-color: #E2EBFA;\n",
              "      box-shadow: 0px 1px 2px rgba(60, 64, 67, 0.3), 0px 1px 3px 1px rgba(60, 64, 67, 0.15);\n",
              "      fill: #174EA6;\n",
              "    }\n",
              "\n",
              "    [theme=dark] .colab-df-convert {\n",
              "      background-color: #3B4455;\n",
              "      fill: #D2E3FC;\n",
              "    }\n",
              "\n",
              "    [theme=dark] .colab-df-convert:hover {\n",
              "      background-color: #434B5C;\n",
              "      box-shadow: 0px 1px 3px 1px rgba(0, 0, 0, 0.15);\n",
              "      filter: drop-shadow(0px 1px 2px rgba(0, 0, 0, 0.3));\n",
              "      fill: #FFFFFF;\n",
              "    }\n",
              "  </style>\n",
              "\n",
              "      <script>\n",
              "        const buttonEl =\n",
              "          document.querySelector('#df-72875d86-7029-4e3d-a08f-6205b8a3fbec button.colab-df-convert');\n",
              "        buttonEl.style.display =\n",
              "          google.colab.kernel.accessAllowed ? 'block' : 'none';\n",
              "\n",
              "        async function convertToInteractive(key) {\n",
              "          const element = document.querySelector('#df-72875d86-7029-4e3d-a08f-6205b8a3fbec');\n",
              "          const dataTable =\n",
              "            await google.colab.kernel.invokeFunction('convertToInteractive',\n",
              "                                                     [key], {});\n",
              "          if (!dataTable) return;\n",
              "\n",
              "          const docLinkHtml = 'Like what you see? Visit the ' +\n",
              "            '<a target=\"_blank\" href=https://colab.research.google.com/notebooks/data_table.ipynb>data table notebook</a>'\n",
              "            + ' to learn more about interactive tables.';\n",
              "          element.innerHTML = '';\n",
              "          dataTable['output_type'] = 'display_data';\n",
              "          await google.colab.output.renderOutput(dataTable, element);\n",
              "          const docLink = document.createElement('div');\n",
              "          docLink.innerHTML = docLinkHtml;\n",
              "          element.appendChild(docLink);\n",
              "        }\n",
              "      </script>\n",
              "    </div>\n",
              "  </div>\n",
              "  "
            ]
          },
          "metadata": {},
          "execution_count": 466
        }
      ]
    },
    {
      "cell_type": "code",
      "source": [
        "# Extract outcome variable -> Wage in dollars/hour (log-transformed)\n",
        "wages_survey_y = wages_survey_raw.target.values.ravel()\n",
        "# Print some of the values of our outcome variable \n",
        "wages_survey_raw.target.head()"
      ],
      "metadata": {
        "colab": {
          "base_uri": "https://localhost:8080/"
        },
        "id": "P-ENJvEdOkKR",
        "outputId": "b98c811e-b846-4ec7-c496-812d9d358e7c"
      },
      "execution_count": null,
      "outputs": [
        {
          "output_type": "execute_result",
          "data": {
            "text/plain": [
              "0    5.10\n",
              "1    4.95\n",
              "2    6.67\n",
              "3    4.00\n",
              "4    7.50\n",
              "Name: WAGE, dtype: float64"
            ]
          },
          "metadata": {},
          "execution_count": 467
        }
      ]
    },
    {
      "cell_type": "markdown",
      "source": [
        "We want to analyze, which variables do explain the wage of a person. Thus, we first check out the distributions of values for wage."
      ],
      "metadata": {
        "id": "DHUvxvrUqlT7"
      }
    },
    {
      "cell_type": "code",
      "source": [
        "# Plot the distribution in a simple histogram\n",
        "wages_survey_raw.target.plot.hist()"
      ],
      "metadata": {
        "colab": {
          "base_uri": "https://localhost:8080/"
        },
        "id": "HQmOFJYZrBsR",
        "outputId": "0c9123fd-2738-4865-8af7-b2d21e4d44e7"
      },
      "execution_count": null,
      "outputs": [
        {
          "output_type": "execute_result",
          "data": {
            "text/plain": [
              "<matplotlib.axes._subplots.AxesSubplot at 0x7f08b3b6d8b0>"
            ]
          },
          "metadata": {},
          "execution_count": 468
        },
        {
          "output_type": "display_data",
          "data": {
            "text/plain": [
              "<Figure size 432x288 with 1 Axes>"
            ],
            "image/png": "[encoded data removed]"
          },
          "metadata": {
            "needs_background": "light"
          }
        }
      ]
    },
    {
      "cell_type": "code",
      "source": [
        "# import all functions from the seaborn package and name it sns\n",
        "import seaborn as sns\n",
        "\n",
        "# create a \"deep\" copy of our predictor dataframe\n",
        "wages_survey_X_copy = wages_survey_X.copy()\n",
        "# add the outcome variable to the dataframe\n",
        "wages_survey_X_copy.insert(0, \"WAGE\", wages_survey_y)\n",
        "# plot the relationships of all continuous variables and their individual distributions\n",
        "sns.pairplot(wages_survey_X_copy, kind=\"reg\", diag_kind=\"kde\")"
      ],
      "metadata": {
        "colab": {
          "base_uri": "https://localhost:8080/"
        },
        "id": "x49urrSmLpjQ",
        "outputId": "4200d17a-050d-4e74-90ef-be84ddd55545"
      },
      "execution_count": null,
      "outputs": [
        {
          "output_type": "execute_result",
          "data": {
            "text/plain": [
              "<seaborn.axisgrid.PairGrid at 0x7f08b39789d0>"
            ]
          },
          "metadata": {},
          "execution_count": 469
        },
        {
          "output_type": "display_data",
          "data": {
            "text/plain": [
              "<Figure size 720x720 with 20 Axes>"
            ],
            "image/png": "[encoded data removed]"
          },
          "metadata": {
            "needs_background": "light"
          }
        }
      ]
    },
    {
      "cell_type": "markdown",
      "source": [
        "What about our other predictors which are categorical?\n",
        "\n",
        "* Sex\n",
        "* South\n",
        "* Race\n",
        "* Sector\n",
        "* Married\n",
        "\n",
        "Let's check their distributions also and create a function to simplify the plot generation."
      ],
      "metadata": {
        "id": "k1gGiprXweqp"
      }
    },
    {
      "cell_type": "code",
      "source": [
        "import matplotlib.pyplot as plt\n",
        "\n",
        "def distribution_plot(column_name: str,\n",
        "                      column_label: str,\n",
        "                      ticks_label: list = None) -> None:\n",
        "  # Group and count the data by category\n",
        "  grouped_categeories = wages_survey_X.groupby(by=column_name, dropna=False).size()\n",
        "  \n",
        "  fig = plt.figure()\n",
        "  ax = fig.add_axes([0,0,1,1])\n",
        "  ax.set_ylabel(\"Count\")\n",
        "  ax.set_xlabel(column_label)\n",
        "  ax.set_title(\"Distribution of \" + column_label)\n",
        "  \n",
        "  if ticks_label is None:\n",
        "    ax.bar(x = list([str(i) for i in grouped_categeories.keys()]), height = grouped_categeories)\n",
        "  else:\n",
        "    ax.bar(x = ticks_label, height = grouped_categeories)\n",
        "  plt.show()"
      ],
      "metadata": {
        "id": "2clLKjEXvgsX"
      },
      "execution_count": null,
      "outputs": []
    },
    {
      "cell_type": "code",
      "source": [
        "distribution_plot(\"SEX\", \"Sex\", [\"Female\", \"Male\"])"
      ],
      "metadata": {
        "colab": {
          "base_uri": "https://localhost:8080/"
        },
        "id": "I1lHKrBjxU3X",
        "outputId": "8387db4a-f645-42d4-af13-79d43c1338ed"
      },
      "execution_count": null,
      "outputs": [
        {
          "output_type": "display_data",
          "data": {
            "text/plain": [
              "<Figure size 432x288 with 1 Axes>"
            ],
            "image/png": "[encoded data removed]"
          },
          "metadata": {
            "needs_background": "light"
          }
        }
      ]
    },
    {
      "cell_type": "code",
      "source": [
        "distribution_plot(\"SOUTH\", \"South\", [\"Lives elsewhere\", \"Lives in south\"])"
      ],
      "metadata": {
        "colab": {
          "base_uri": "https://localhost:8080/"
        },
        "id": "Jh0PlqZGxYiR",
        "outputId": "bfb1f839-e42f-4cda-89e7-bdc795535ba5"
      },
      "execution_count": null,
      "outputs": [
        {
          "output_type": "display_data",
          "data": {
            "text/plain": [
              "<Figure size 432x288 with 1 Axes>"
            ],
            "image/png": "[encoded data removed]"
          },
          "metadata": {
            "needs_background": "light"
          }
        }
      ]
    },
    {
      "cell_type": "code",
      "source": [
        "distribution_plot(\"UNION\", \"Union Membership\", [\"Member\", \"No member\"])"
      ],
      "metadata": {
        "colab": {
          "base_uri": "https://localhost:8080/"
        },
        "id": "T3ETcmNDxYra",
        "outputId": "7756f546-1ccf-4ab6-af7c-83955f7bfd7f"
      },
      "execution_count": null,
      "outputs": [
        {
          "output_type": "display_data",
          "data": {
            "text/plain": [
              "<Figure size 432x288 with 1 Axes>"
            ],
            "image/png": "[encoded data removed]"
          },
          "metadata": {
            "needs_background": "light"
          }
        }
      ]
    },
    {
      "cell_type": "code",
      "source": [
        "distribution_plot(\"RACE\", \"Race\")"
      ],
      "metadata": {
        "colab": {
          "base_uri": "https://localhost:8080/"
        },
        "id": "GOsOVz2hWXdB",
        "outputId": "71c94f04-eae7-446d-f01b-a2db214d86bd"
      },
      "execution_count": null,
      "outputs": [
        {
          "output_type": "display_data",
          "data": {
            "text/plain": [
              "<Figure size 432x288 with 1 Axes>"
            ],
            "image/png": "[encoded data removed]"
          },
          "metadata": {
            "needs_background": "light"
          }
        }
      ]
    },
    {
      "cell_type": "code",
      "source": [
        "distribution_plot(\"OCCUPATION\", \"Occupation\")"
      ],
      "metadata": {
        "colab": {
          "base_uri": "https://localhost:8080/"
        },
        "outputId": "52bbdaa9-1c5a-4839-c5b8-91f92b0ea5e8",
        "id": "MtSTqn5XWmnq"
      },
      "execution_count": null,
      "outputs": [
        {
          "output_type": "display_data",
          "data": {
            "text/plain": [
              "<Figure size 432x288 with 1 Axes>"
            ],
            "image/png": "[encoded data removed]"
          },
          "metadata": {
            "needs_background": "light"
          }
        }
      ]
    },
    {
      "cell_type": "code",
      "source": [
        "distribution_plot(\"SECTOR\", \"Sector\")"
      ],
      "metadata": {
        "colab": {
          "base_uri": "https://localhost:8080/"
        },
        "id": "5vNNKv5bWthw",
        "outputId": "4e232a04-ba03-4fd3-a328-be6a5021912c"
      },
      "execution_count": null,
      "outputs": [
        {
          "output_type": "display_data",
          "data": {
            "text/plain": [
              "<Figure size 432x288 with 1 Axes>"
            ],
            "image/png": "[encoded data removed]"
          },
          "metadata": {
            "needs_background": "light"
          }
        }
      ]
    },
    {
      "cell_type": "code",
      "source": [
        "distribution_plot(\"MARR\", \"Married\")"
      ],
      "metadata": {
        "colab": {
          "base_uri": "https://localhost:8080/"
        },
        "id": "8dOeyfoLW0hc",
        "outputId": "2b862a55-ce6c-4639-dc6f-032c75a68c65"
      },
      "execution_count": null,
      "outputs": [
        {
          "output_type": "display_data",
          "data": {
            "text/plain": [
              "<Figure size 432x288 with 1 Axes>"
            ],
            "image/png": "[encoded data removed]"
          },
          "metadata": {
            "needs_background": "light"
          }
        }
      ]
    },
    {
      "cell_type": "markdown",
      "source": [
        "To simplify our analysis we only include Education, Experience and Sex into our upcoming models. Let's just keep these columns by selecting them and do a final check for any NA values."
      ],
      "metadata": {
        "id": "esGSksTT4_50"
      }
    },
    {
      "cell_type": "code",
      "source": [
        "# Select the columns we're focusing on\n",
        "wages_survey_X = wages_survey_X[[\"SEX\", \"OCCUPATION\", \"MARR\"]]\n",
        "\n",
        "# Check these columns for NA values and print the result\n",
        "print(f\"Are there any NA values in the predictors? -> {wages_survey_X.isna().values.any()}\")\n",
        "# Also check our outcome variable wage for NA values and print the result\n",
        "print(f\"Are there any NA values in the outcome? -> {wages_survey_raw.target.isna().values.any()}\")"
      ],
      "metadata": {
        "colab": {
          "base_uri": "https://localhost:8080/"
        },
        "id": "Kueo8wU36bL4",
        "outputId": "63690557-abf1-490f-dba4-869b1591e183"
      },
      "execution_count": null,
      "outputs": [
        {
          "output_type": "stream",
          "name": "stdout",
          "text": [
            "Are there any NA values in the predictors? -> False\n",
            "Are there any NA values in the outcome? -> False\n"
          ]
        }
      ]
    },
    {
      "cell_type": "markdown",
      "source": [
        "Fortunately, we do not obsere any NA values in these columns. If you work with another dataset with NA values you could try to impute them. The Scikit-learn package offers great oppourtunities to start with: [Scikit-Learn Data Imputation](https://scikit-learn.org/stable/modules/impute.html)"
      ],
      "metadata": {
        "id": "uTlL7UE8X0MD"
      }
    },
    {
      "cell_type": "markdown",
      "source": [
        "### Preprocessing\n",
        "\n",
        "Let's continue with some basic preprocessing steps and a train-/testsplit for the upcoming models."
      ],
      "metadata": {
        "id": "huV8LUwytZzl"
      }
    },
    {
      "cell_type": "code",
      "source": [
        "import pandas as pd\n",
        "from sklearn.preprocessing import LabelEncoder\n",
        "pd.options.mode.chained_assignment = None\n",
        "\n",
        "le = LabelEncoder() # functionality to replace categorie names of a feature with numbers\n",
        "wages_survey_X[\"SEX\"] = le.fit_transform(wages_survey_X[\"SEX\"])\n",
        "wages_survey_X[\"OCCUPATION\"] = le.fit_transform(wages_survey_X[\"OCCUPATION\"])\n",
        "wages_survey_X[\"MARR\"] = le.fit_transform(wages_survey_X[\"MARR\"])"
      ],
      "metadata": {
        "id": "fohZ23Is8FdW"
      },
      "execution_count": null,
      "outputs": []
    },
    {
      "cell_type": "code",
      "source": [
        "wages_survey_X"
      ],
      "metadata": {
        "colab": {
          "base_uri": "https://localhost:8080/"
        },
        "id": "BPeRBgXJ-ASn",
        "outputId": "ddb24879-e364-4714-9293-4b33e43be327"
      },
      "execution_count": null,
      "outputs": [
        {
          "output_type": "execute_result",
          "data": {
            "text/plain": [
              "     SEX  OCCUPATION  MARR\n",
              "0      0           2     0\n",
              "1      0           2     0\n",
              "2      1           2     1\n",
              "3      1           2     1\n",
              "4      1           2     0\n",
              "..   ...         ...   ...\n",
              "529    1           3     1\n",
              "530    0           3     0\n",
              "531    0           3     0\n",
              "532    1           3     0\n",
              "533    1           3     0\n",
              "\n",
              "[534 rows x 3 columns]"
            ],
            "text/html": [
              "\n",
              "  <div id=\"df-15aeaa2f-ec12-42f5-b398-6772ae2c7178\">\n",
              "    <div class=\"colab-df-container\">\n",
              "      <div>\n",
              "<style scoped>\n",
              "    .dataframe tbody tr th:only-of-type {\n",
              "        vertical-align: middle;\n",
              "    }\n",
              "\n",
              "    .dataframe tbody tr th {\n",
              "        vertical-align: top;\n",
              "    }\n",
              "\n",
              "    .dataframe thead th {\n",
              "        text-align: right;\n",
              "    }\n",
              "</style>\n",
              "<table border=\"1\" class=\"dataframe\">\n",
              "  <thead>\n",
              "    <tr style=\"text-align: right;\">\n",
              "      <th></th>\n",
              "      <th>SEX</th>\n",
              "      <th>OCCUPATION</th>\n",
              "      <th>MARR</th>\n",
              "    </tr>\n",
              "  </thead>\n",
              "  <tbody>\n",
              "    <tr>\n",
              "      <th>0</th>\n",
              "      <td>0</td>\n",
              "      <td>2</td>\n",
              "      <td>0</td>\n",
              "    </tr>\n",
              "    <tr>\n",
              "      <th>1</th>\n",
              "      <td>0</td>\n",
              "      <td>2</td>\n",
              "      <td>0</td>\n",
              "    </tr>\n",
              "    <tr>\n",
              "      <th>2</th>\n",
              "      <td>1</td>\n",
              "      <td>2</td>\n",
              "      <td>1</td>\n",
              "    </tr>\n",
              "    <tr>\n",
              "      <th>3</th>\n",
              "      <td>1</td>\n",
              "      <td>2</td>\n",
              "      <td>1</td>\n",
              "    </tr>\n",
              "    <tr>\n",
              "      <th>4</th>\n",
              "      <td>1</td>\n",
              "      <td>2</td>\n",
              "      <td>0</td>\n",
              "    </tr>\n",
              "    <tr>\n",
              "      <th>...</th>\n",
              "      <td>...</td>\n",
              "      <td>...</td>\n",
              "      <td>...</td>\n",
              "    </tr>\n",
              "    <tr>\n",
              "      <th>529</th>\n",
              "      <td>1</td>\n",
              "      <td>3</td>\n",
              "      <td>1</td>\n",
              "    </tr>\n",
              "    <tr>\n",
              "      <th>530</th>\n",
              "      <td>0</td>\n",
              "      <td>3</td>\n",
              "      <td>0</td>\n",
              "    </tr>\n",
              "    <tr>\n",
              "      <th>531</th>\n",
              "      <td>0</td>\n",
              "      <td>3</td>\n",
              "      <td>0</td>\n",
              "    </tr>\n",
              "    <tr>\n",
              "      <th>532</th>\n",
              "      <td>1</td>\n",
              "      <td>3</td>\n",
              "      <td>0</td>\n",
              "    </tr>\n",
              "    <tr>\n",
              "      <th>533</th>\n",
              "      <td>1</td>\n",
              "      <td>3</td>\n",
              "      <td>0</td>\n",
              "    </tr>\n",
              "  </tbody>\n",
              "</table>\n",
              "<p>534 rows × 3 columns</p>\n",
              "</div>\n",
              "      <button class=\"colab-df-convert\" onclick=\"convertToInteractive('df-15aeaa2f-ec12-42f5-b398-6772ae2c7178')\"\n",
              "              title=\"Convert this dataframe to an interactive table.\"\n",
              "              style=\"display:none;\">\n",
              "        \n",
              "  <svg xmlns=\"http://www.w3.org/2000/svg\" height=\"24px\"viewBox=\"0 0 24 24\"\n",
              "       width=\"24px\">\n",
              "    <path d=\"M0 0h24v24H0V0z\" fill=\"none\"/>\n",
              "    <path d=\"M18.56 5.44l.94 2.06.94-2.06 2.06-.94-2.06-.94-.94-2.06-.94 2.06-2.06.94zm-11 1L8.5 8.5l.94-2.06 2.06-.94-2.06-.94L8.5 2.5l-.94 2.06-2.06.94zm10 10l.94 2.06.94-2.06 2.06-.94-2.06-.94-.94-2.06-.94 2.06-2.06.94z\"/><path d=\"M17.41 7.96l-1.37-1.37c-.4-.4-.92-.59-1.43-.59-.52 0-1.04.2-1.43.59L10.3 9.45l-7.72 7.72c-.78.78-.78 2.05 0 2.83L4 21.41c.39.39.9.59 1.41.59.51 0 1.02-.2 1.41-.59l7.78-7.78 2.81-2.81c.8-.78.8-2.07 0-2.86zM5.41 20L4 18.59l7.72-7.72 1.47 1.35L5.41 20z\"/>\n",
              "  </svg>\n",
              "      </button>\n",
              "      \n",
              "  <style>\n",
              "    .colab-df-container {\n",
              "      display:flex;\n",
              "      flex-wrap:wrap;\n",
              "      gap: 12px;\n",
              "    }\n",
              "\n",
              "    .colab-df-convert {\n",
              "      background-color: #E8F0FE;\n",
              "      border: none;\n",
              "      border-radius: 50%;\n",
              "      cursor: pointer;\n",
              "      display: none;\n",
              "      fill: #1967D2;\n",
              "      height: 32px;\n",
              "      padding: 0 0 0 0;\n",
              "      width: 32px;\n",
              "    }\n",
              "\n",
              "    .colab-df-convert:hover {\n",
              "      background-color: #E2EBFA;\n",
              "      box-shadow: 0px 1px 2px rgba(60, 64, 67, 0.3), 0px 1px 3px 1px rgba(60, 64, 67, 0.15);\n",
              "      fill: #174EA6;\n",
              "    }\n",
              "\n",
              "    [theme=dark] .colab-df-convert {\n",
              "      background-color: #3B4455;\n",
              "      fill: #D2E3FC;\n",
              "    }\n",
              "\n",
              "    [theme=dark] .colab-df-convert:hover {\n",
              "      background-color: #434B5C;\n",
              "      box-shadow: 0px 1px 3px 1px rgba(0, 0, 0, 0.15);\n",
              "      filter: drop-shadow(0px 1px 2px rgba(0, 0, 0, 0.3));\n",
              "      fill: #FFFFFF;\n",
              "    }\n",
              "  </style>\n",
              "\n",
              "      <script>\n",
              "        const buttonEl =\n",
              "          document.querySelector('#df-15aeaa2f-ec12-42f5-b398-6772ae2c7178 button.colab-df-convert');\n",
              "        buttonEl.style.display =\n",
              "          google.colab.kernel.accessAllowed ? 'block' : 'none';\n",
              "\n",
              "        async function convertToInteractive(key) {\n",
              "          const element = document.querySelector('#df-15aeaa2f-ec12-42f5-b398-6772ae2c7178');\n",
              "          const dataTable =\n",
              "            await google.colab.kernel.invokeFunction('convertToInteractive',\n",
              "                                                     [key], {});\n",
              "          if (!dataTable) return;\n",
              "\n",
              "          const docLinkHtml = 'Like what you see? Visit the ' +\n",
              "            '<a target=\"_blank\" href=https://colab.research.google.com/notebooks/data_table.ipynb>data table notebook</a>'\n",
              "            + ' to learn more about interactive tables.';\n",
              "          element.innerHTML = '';\n",
              "          dataTable['output_type'] = 'display_data';\n",
              "          await google.colab.output.renderOutput(dataTable, element);\n",
              "          const docLink = document.createElement('div');\n",
              "          docLink.innerHTML = docLinkHtml;\n",
              "          element.appendChild(docLink);\n",
              "        }\n",
              "      </script>\n",
              "    </div>\n",
              "  </div>\n",
              "  "
            ]
          },
          "metadata": {},
          "execution_count": 480
        }
      ]
    },
    {
      "cell_type": "code",
      "source": [
        "import pandas as pd\n",
        "\n",
        "wages_survey_y = pd.cut(wages_survey_raw.target, [0, wages_survey_raw.target.mean(), wages_survey_raw.target.max()], labels = [\"0\", \"1\"])\n",
        "wages_survey_y"
      ],
      "metadata": {
        "colab": {
          "base_uri": "https://localhost:8080/"
        },
        "id": "ucdGSsEb9uRa",
        "outputId": "4aeb39a2-2905-471f-a43d-9425c237098e"
      },
      "execution_count": null,
      "outputs": [
        {
          "output_type": "execute_result",
          "data": {
            "text/plain": [
              "0      0\n",
              "1      0\n",
              "2      0\n",
              "3      0\n",
              "4      0\n",
              "      ..\n",
              "529    1\n",
              "530    0\n",
              "531    1\n",
              "532    1\n",
              "533    1\n",
              "Name: WAGE, Length: 534, dtype: category\n",
              "Categories (2, object): ['0' < '1']"
            ]
          },
          "metadata": {},
          "execution_count": 481
        }
      ]
    },
    {
      "cell_type": "code",
      "source": [
        "wages_survey_y.hist()"
      ],
      "metadata": {
        "colab": {
          "base_uri": "https://localhost:8080/"
        },
        "id": "DpbGAf9lBN-f",
        "outputId": "45e1d7fe-1939-4034-d428-af14029d27d6"
      },
      "execution_count": null,
      "outputs": [
        {
          "output_type": "execute_result",
          "data": {
            "text/plain": [
              "<matplotlib.axes._subplots.AxesSubplot at 0x7f08b3a87160>"
            ]
          },
          "metadata": {},
          "execution_count": 482
        },
        {
          "output_type": "display_data",
          "data": {
            "text/plain": [
              "<Figure size 432x288 with 1 Axes>"
            ],
            "image/png": "[encoded data removed]"
          },
          "metadata": {
            "needs_background": "light"
          }
        }
      ]
    },
    {
      "cell_type": "code",
      "source": [
        "wages_survey_X"
      ],
      "metadata": {
        "colab": {
          "base_uri": "https://localhost:8080/"
        },
        "id": "VmGYEP7NCN8j",
        "outputId": "4b66d764-a375-43b2-d15f-3ad0a00c6a11"
      },
      "execution_count": null,
      "outputs": [
        {
          "output_type": "execute_result",
          "data": {
            "text/plain": [
              "     SEX  OCCUPATION  MARR\n",
              "0      0           2     0\n",
              "1      0           2     0\n",
              "2      1           2     1\n",
              "3      1           2     1\n",
              "4      1           2     0\n",
              "..   ...         ...   ...\n",
              "529    1           3     1\n",
              "530    0           3     0\n",
              "531    0           3     0\n",
              "532    1           3     0\n",
              "533    1           3     0\n",
              "\n",
              "[534 rows x 3 columns]"
            ],
            "text/html": [
              "\n",
              "  <div id=\"df-f60b71b4-26ae-4a07-87b4-4eb72dad3b0e\">\n",
              "    <div class=\"colab-df-container\">\n",
              "      <div>\n",
              "<style scoped>\n",
              "    .dataframe tbody tr th:only-of-type {\n",
              "        vertical-align: middle;\n",
              "    }\n",
              "\n",
              "    .dataframe tbody tr th {\n",
              "        vertical-align: top;\n",
              "    }\n",
              "\n",
              "    .dataframe thead th {\n",
              "        text-align: right;\n",
              "    }\n",
              "</style>\n",
              "<table border=\"1\" class=\"dataframe\">\n",
              "  <thead>\n",
              "    <tr style=\"text-align: right;\">\n",
              "      <th></th>\n",
              "      <th>SEX</th>\n",
              "      <th>OCCUPATION</th>\n",
              "      <th>MARR</th>\n",
              "    </tr>\n",
              "  </thead>\n",
              "  <tbody>\n",
              "    <tr>\n",
              "      <th>0</th>\n",
              "      <td>0</td>\n",
              "      <td>2</td>\n",
              "      <td>0</td>\n",
              "    </tr>\n",
              "    <tr>\n",
              "      <th>1</th>\n",
              "      <td>0</td>\n",
              "      <td>2</td>\n",
              "      <td>0</td>\n",
              "    </tr>\n",
              "    <tr>\n",
              "      <th>2</th>\n",
              "      <td>1</td>\n",
              "      <td>2</td>\n",
              "      <td>1</td>\n",
              "    </tr>\n",
              "    <tr>\n",
              "      <th>3</th>\n",
              "      <td>1</td>\n",
              "      <td>2</td>\n",
              "      <td>1</td>\n",
              "    </tr>\n",
              "    <tr>\n",
              "      <th>4</th>\n",
              "      <td>1</td>\n",
              "      <td>2</td>\n",
              "      <td>0</td>\n",
              "    </tr>\n",
              "    <tr>\n",
              "      <th>...</th>\n",
              "      <td>...</td>\n",
              "      <td>...</td>\n",
              "      <td>...</td>\n",
              "    </tr>\n",
              "    <tr>\n",
              "      <th>529</th>\n",
              "      <td>1</td>\n",
              "      <td>3</td>\n",
              "      <td>1</td>\n",
              "    </tr>\n",
              "    <tr>\n",
              "      <th>530</th>\n",
              "      <td>0</td>\n",
              "      <td>3</td>\n",
              "      <td>0</td>\n",
              "    </tr>\n",
              "    <tr>\n",
              "      <th>531</th>\n",
              "      <td>0</td>\n",
              "      <td>3</td>\n",
              "      <td>0</td>\n",
              "    </tr>\n",
              "    <tr>\n",
              "      <th>532</th>\n",
              "      <td>1</td>\n",
              "      <td>3</td>\n",
              "      <td>0</td>\n",
              "    </tr>\n",
              "    <tr>\n",
              "      <th>533</th>\n",
              "      <td>1</td>\n",
              "      <td>3</td>\n",
              "      <td>0</td>\n",
              "    </tr>\n",
              "  </tbody>\n",
              "</table>\n",
              "<p>534 rows × 3 columns</p>\n",
              "</div>\n",
              "      <button class=\"colab-df-convert\" onclick=\"convertToInteractive('df-f60b71b4-26ae-4a07-87b4-4eb72dad3b0e')\"\n",
              "              title=\"Convert this dataframe to an interactive table.\"\n",
              "              style=\"display:none;\">\n",
              "        \n",
              "  <svg xmlns=\"http://www.w3.org/2000/svg\" height=\"24px\"viewBox=\"0 0 24 24\"\n",
              "       width=\"24px\">\n",
              "    <path d=\"M0 0h24v24H0V0z\" fill=\"none\"/>\n",
              "    <path d=\"M18.56 5.44l.94 2.06.94-2.06 2.06-.94-2.06-.94-.94-2.06-.94 2.06-2.06.94zm-11 1L8.5 8.5l.94-2.06 2.06-.94-2.06-.94L8.5 2.5l-.94 2.06-2.06.94zm10 10l.94 2.06.94-2.06 2.06-.94-2.06-.94-.94-2.06-.94 2.06-2.06.94z\"/><path d=\"M17.41 7.96l-1.37-1.37c-.4-.4-.92-.59-1.43-.59-.52 0-1.04.2-1.43.59L10.3 9.45l-7.72 7.72c-.78.78-.78 2.05 0 2.83L4 21.41c.39.39.9.59 1.41.59.51 0 1.02-.2 1.41-.59l7.78-7.78 2.81-2.81c.8-.78.8-2.07 0-2.86zM5.41 20L4 18.59l7.72-7.72 1.47 1.35L5.41 20z\"/>\n",
              "  </svg>\n",
              "      </button>\n",
              "      \n",
              "  <style>\n",
              "    .colab-df-container {\n",
              "      display:flex;\n",
              "      flex-wrap:wrap;\n",
              "      gap: 12px;\n",
              "    }\n",
              "\n",
              "    .colab-df-convert {\n",
              "      background-color: #E8F0FE;\n",
              "      border: none;\n",
              "      border-radius: 50%;\n",
              "      cursor: pointer;\n",
              "      display: none;\n",
              "      fill: #1967D2;\n",
              "      height: 32px;\n",
              "      padding: 0 0 0 0;\n",
              "      width: 32px;\n",
              "    }\n",
              "\n",
              "    .colab-df-convert:hover {\n",
              "      background-color: #E2EBFA;\n",
              "      box-shadow: 0px 1px 2px rgba(60, 64, 67, 0.3), 0px 1px 3px 1px rgba(60, 64, 67, 0.15);\n",
              "      fill: #174EA6;\n",
              "    }\n",
              "\n",
              "    [theme=dark] .colab-df-convert {\n",
              "      background-color: #3B4455;\n",
              "      fill: #D2E3FC;\n",
              "    }\n",
              "\n",
              "    [theme=dark] .colab-df-convert:hover {\n",
              "      background-color: #434B5C;\n",
              "      box-shadow: 0px 1px 3px 1px rgba(0, 0, 0, 0.15);\n",
              "      filter: drop-shadow(0px 1px 2px rgba(0, 0, 0, 0.3));\n",
              "      fill: #FFFFFF;\n",
              "    }\n",
              "  </style>\n",
              "\n",
              "      <script>\n",
              "        const buttonEl =\n",
              "          document.querySelector('#df-f60b71b4-26ae-4a07-87b4-4eb72dad3b0e button.colab-df-convert');\n",
              "        buttonEl.style.display =\n",
              "          google.colab.kernel.accessAllowed ? 'block' : 'none';\n",
              "\n",
              "        async function convertToInteractive(key) {\n",
              "          const element = document.querySelector('#df-f60b71b4-26ae-4a07-87b4-4eb72dad3b0e');\n",
              "          const dataTable =\n",
              "            await google.colab.kernel.invokeFunction('convertToInteractive',\n",
              "                                                     [key], {});\n",
              "          if (!dataTable) return;\n",
              "\n",
              "          const docLinkHtml = 'Like what you see? Visit the ' +\n",
              "            '<a target=\"_blank\" href=https://colab.research.google.com/notebooks/data_table.ipynb>data table notebook</a>'\n",
              "            + ' to learn more about interactive tables.';\n",
              "          element.innerHTML = '';\n",
              "          dataTable['output_type'] = 'display_data';\n",
              "          await google.colab.output.renderOutput(dataTable, element);\n",
              "          const docLink = document.createElement('div');\n",
              "          docLink.innerHTML = docLinkHtml;\n",
              "          element.appendChild(docLink);\n",
              "        }\n",
              "      </script>\n",
              "    </div>\n",
              "  </div>\n",
              "  "
            ]
          },
          "metadata": {},
          "execution_count": 483
        }
      ]
    },
    {
      "cell_type": "code",
      "source": [
        "from sklearn.model_selection import train_test_split, ShuffleSplit, GridSearchCV, RandomizedSearchCV\n",
        "\n",
        "# Split into train and test set\n",
        "X_train, X_test, y_train, y_test = train_test_split(\n",
        "    wages_survey_X, wages_survey_y, test_size=0.2, random_state=20221216)"
      ],
      "metadata": {
        "id": "ecJFK17ntc7h"
      },
      "execution_count": null,
      "outputs": []
    },
    {
      "cell_type": "markdown",
      "source": [
        "Let's take a look at the train-/testsplit:"
      ],
      "metadata": {
        "id": "l-6IPajnuSwq"
      }
    },
    {
      "cell_type": "code",
      "source": [
        "X_train"
      ],
      "metadata": {
        "colab": {
          "base_uri": "https://localhost:8080/"
        },
        "id": "gl2VxTJ2uP3C",
        "outputId": "4912a5e9-015d-4144-b546-793d772a1bef"
      },
      "execution_count": null,
      "outputs": [
        {
          "output_type": "execute_result",
          "data": {
            "text/plain": [
              "     SEX  OCCUPATION  MARR\n",
              "280    1           0     0\n",
              "487    0           3     1\n",
              "317    0           0     0\n",
              "52     0           2     0\n",
              "163    1           1     1\n",
              "..   ...         ...   ...\n",
              "523    1           3     0\n",
              "422    0           5     0\n",
              "10     1           2     0\n",
              "145    1           2     0\n",
              "240    0           4     0\n",
              "\n",
              "[427 rows x 3 columns]"
            ],
            "text/html": [
              "\n",
              "  <div id=\"df-f287bdad-07a9-46a3-b6df-cca4da0d4666\">\n",
              "    <div class=\"colab-df-container\">\n",
              "      <div>\n",
              "<style scoped>\n",
              "    .dataframe tbody tr th:only-of-type {\n",
              "        vertical-align: middle;\n",
              "    }\n",
              "\n",
              "    .dataframe tbody tr th {\n",
              "        vertical-align: top;\n",
              "    }\n",
              "\n",
              "    .dataframe thead th {\n",
              "        text-align: right;\n",
              "    }\n",
              "</style>\n",
              "<table border=\"1\" class=\"dataframe\">\n",
              "  <thead>\n",
              "    <tr style=\"text-align: right;\">\n",
              "      <th></th>\n",
              "      <th>SEX</th>\n",
              "      <th>OCCUPATION</th>\n",
              "      <th>MARR</th>\n",
              "    </tr>\n",
              "  </thead>\n",
              "  <tbody>\n",
              "    <tr>\n",
              "      <th>280</th>\n",
              "      <td>1</td>\n",
              "      <td>0</td>\n",
              "      <td>0</td>\n",
              "    </tr>\n",
              "    <tr>\n",
              "      <th>487</th>\n",
              "      <td>0</td>\n",
              "      <td>3</td>\n",
              "      <td>1</td>\n",
              "    </tr>\n",
              "    <tr>\n",
              "      <th>317</th>\n",
              "      <td>0</td>\n",
              "      <td>0</td>\n",
              "      <td>0</td>\n",
              "    </tr>\n",
              "    <tr>\n",
              "      <th>52</th>\n",
              "      <td>0</td>\n",
              "      <td>2</td>\n",
              "      <td>0</td>\n",
              "    </tr>\n",
              "    <tr>\n",
              "      <th>163</th>\n",
              "      <td>1</td>\n",
              "      <td>1</td>\n",
              "      <td>1</td>\n",
              "    </tr>\n",
              "    <tr>\n",
              "      <th>...</th>\n",
              "      <td>...</td>\n",
              "      <td>...</td>\n",
              "      <td>...</td>\n",
              "    </tr>\n",
              "    <tr>\n",
              "      <th>523</th>\n",
              "      <td>1</td>\n",
              "      <td>3</td>\n",
              "      <td>0</td>\n",
              "    </tr>\n",
              "    <tr>\n",
              "      <th>422</th>\n",
              "      <td>0</td>\n",
              "      <td>5</td>\n",
              "      <td>0</td>\n",
              "    </tr>\n",
              "    <tr>\n",
              "      <th>10</th>\n",
              "      <td>1</td>\n",
              "      <td>2</td>\n",
              "      <td>0</td>\n",
              "    </tr>\n",
              "    <tr>\n",
              "      <th>145</th>\n",
              "      <td>1</td>\n",
              "      <td>2</td>\n",
              "      <td>0</td>\n",
              "    </tr>\n",
              "    <tr>\n",
              "      <th>240</th>\n",
              "      <td>0</td>\n",
              "      <td>4</td>\n",
              "      <td>0</td>\n",
              "    </tr>\n",
              "  </tbody>\n",
              "</table>\n",
              "<p>427 rows × 3 columns</p>\n",
              "</div>\n",
              "      <button class=\"colab-df-convert\" onclick=\"convertToInteractive('df-f287bdad-07a9-46a3-b6df-cca4da0d4666')\"\n",
              "              title=\"Convert this dataframe to an interactive table.\"\n",
              "              style=\"display:none;\">\n",
              "        \n",
              "  <svg xmlns=\"http://www.w3.org/2000/svg\" height=\"24px\"viewBox=\"0 0 24 24\"\n",
              "       width=\"24px\">\n",
              "    <path d=\"M0 0h24v24H0V0z\" fill=\"none\"/>\n",
              "    <path d=\"M18.56 5.44l.94 2.06.94-2.06 2.06-.94-2.06-.94-.94-2.06-.94 2.06-2.06.94zm-11 1L8.5 8.5l.94-2.06 2.06-.94-2.06-.94L8.5 2.5l-.94 2.06-2.06.94zm10 10l.94 2.06.94-2.06 2.06-.94-2.06-.94-.94-2.06-.94 2.06-2.06.94z\"/><path d=\"M17.41 7.96l-1.37-1.37c-.4-.4-.92-.59-1.43-.59-.52 0-1.04.2-1.43.59L10.3 9.45l-7.72 7.72c-.78.78-.78 2.05 0 2.83L4 21.41c.39.39.9.59 1.41.59.51 0 1.02-.2 1.41-.59l7.78-7.78 2.81-2.81c.8-.78.8-2.07 0-2.86zM5.41 20L4 18.59l7.72-7.72 1.47 1.35L5.41 20z\"/>\n",
              "  </svg>\n",
              "      </button>\n",
              "      \n",
              "  <style>\n",
              "    .colab-df-container {\n",
              "      display:flex;\n",
              "      flex-wrap:wrap;\n",
              "      gap: 12px;\n",
              "    }\n",
              "\n",
              "    .colab-df-convert {\n",
              "      background-color: #E8F0FE;\n",
              "      border: none;\n",
              "      border-radius: 50%;\n",
              "      cursor: pointer;\n",
              "      display: none;\n",
              "      fill: #1967D2;\n",
              "      height: 32px;\n",
              "      padding: 0 0 0 0;\n",
              "      width: 32px;\n",
              "    }\n",
              "\n",
              "    .colab-df-convert:hover {\n",
              "      background-color: #E2EBFA;\n",
              "      box-shadow: 0px 1px 2px rgba(60, 64, 67, 0.3), 0px 1px 3px 1px rgba(60, 64, 67, 0.15);\n",
              "      fill: #174EA6;\n",
              "    }\n",
              "\n",
              "    [theme=dark] .colab-df-convert {\n",
              "      background-color: #3B4455;\n",
              "      fill: #D2E3FC;\n",
              "    }\n",
              "\n",
              "    [theme=dark] .colab-df-convert:hover {\n",
              "      background-color: #434B5C;\n",
              "      box-shadow: 0px 1px 3px 1px rgba(0, 0, 0, 0.15);\n",
              "      filter: drop-shadow(0px 1px 2px rgba(0, 0, 0, 0.3));\n",
              "      fill: #FFFFFF;\n",
              "    }\n",
              "  </style>\n",
              "\n",
              "      <script>\n",
              "        const buttonEl =\n",
              "          document.querySelector('#df-f287bdad-07a9-46a3-b6df-cca4da0d4666 button.colab-df-convert');\n",
              "        buttonEl.style.display =\n",
              "          google.colab.kernel.accessAllowed ? 'block' : 'none';\n",
              "\n",
              "        async function convertToInteractive(key) {\n",
              "          const element = document.querySelector('#df-f287bdad-07a9-46a3-b6df-cca4da0d4666');\n",
              "          const dataTable =\n",
              "            await google.colab.kernel.invokeFunction('convertToInteractive',\n",
              "                                                     [key], {});\n",
              "          if (!dataTable) return;\n",
              "\n",
              "          const docLinkHtml = 'Like what you see? Visit the ' +\n",
              "            '<a target=\"_blank\" href=https://colab.research.google.com/notebooks/data_table.ipynb>data table notebook</a>'\n",
              "            + ' to learn more about interactive tables.';\n",
              "          element.innerHTML = '';\n",
              "          dataTable['output_type'] = 'display_data';\n",
              "          await google.colab.output.renderOutput(dataTable, element);\n",
              "          const docLink = document.createElement('div');\n",
              "          docLink.innerHTML = docLinkHtml;\n",
              "          element.appendChild(docLink);\n",
              "        }\n",
              "      </script>\n",
              "    </div>\n",
              "  </div>\n",
              "  "
            ]
          },
          "metadata": {},
          "execution_count": 485
        }
      ]
    },
    {
      "cell_type": "code",
      "source": [
        "y_train"
      ],
      "metadata": {
        "colab": {
          "base_uri": "https://localhost:8080/"
        },
        "id": "KiExrgEuuYbw",
        "outputId": "7f45c171-0e1f-45fa-e85f-663ed05f1d36"
      },
      "execution_count": null,
      "outputs": [
        {
          "output_type": "execute_result",
          "data": {
            "text/plain": [
              "280    0\n",
              "487    0\n",
              "317    1\n",
              "52     0\n",
              "163    0\n",
              "      ..\n",
              "523    0\n",
              "422    0\n",
              "10     1\n",
              "145    0\n",
              "240    0\n",
              "Name: WAGE, Length: 427, dtype: category\n",
              "Categories (2, object): ['0' < '1']"
            ]
          },
          "metadata": {},
          "execution_count": 486
        }
      ]
    },
    {
      "cell_type": "code",
      "source": [
        "X_test"
      ],
      "metadata": {
        "colab": {
          "base_uri": "https://localhost:8080/"
        },
        "id": "PEZwbqDJuaD1",
        "outputId": "83322e36-b7fa-4f88-ab9b-b28eede04c6b"
      },
      "execution_count": null,
      "outputs": [
        {
          "output_type": "execute_result",
          "data": {
            "text/plain": [
              "     SEX  OCCUPATION  MARR\n",
              "300    0           0     1\n",
              "351    0           5     1\n",
              "479    1           3     0\n",
              "287    0           0     0\n",
              "446    0           3     0\n",
              "..   ...         ...   ...\n",
              "33     0           2     1\n",
              "149    1           2     0\n",
              "531    0           3     0\n",
              "441    0           3     1\n",
              "239    1           4     0\n",
              "\n",
              "[107 rows x 3 columns]"
            ],
            "text/html": [
              "\n",
              "  <div id=\"df-06b63d4a-1ed5-43ff-bfc0-6c61d2e19d01\">\n",
              "    <div class=\"colab-df-container\">\n",
              "      <div>\n",
              "<style scoped>\n",
              "    .dataframe tbody tr th:only-of-type {\n",
              "        vertical-align: middle;\n",
              "    }\n",
              "\n",
              "    .dataframe tbody tr th {\n",
              "        vertical-align: top;\n",
              "    }\n",
              "\n",
              "    .dataframe thead th {\n",
              "        text-align: right;\n",
              "    }\n",
              "</style>\n",
              "<table border=\"1\" class=\"dataframe\">\n",
              "  <thead>\n",
              "    <tr style=\"text-align: right;\">\n",
              "      <th></th>\n",
              "      <th>SEX</th>\n",
              "      <th>OCCUPATION</th>\n",
              "      <th>MARR</th>\n",
              "    </tr>\n",
              "  </thead>\n",
              "  <tbody>\n",
              "    <tr>\n",
              "      <th>300</th>\n",
              "      <td>0</td>\n",
              "      <td>0</td>\n",
              "      <td>1</td>\n",
              "    </tr>\n",
              "    <tr>\n",
              "      <th>351</th>\n",
              "      <td>0</td>\n",
              "      <td>5</td>\n",
              "      <td>1</td>\n",
              "    </tr>\n",
              "    <tr>\n",
              "      <th>479</th>\n",
              "      <td>1</td>\n",
              "      <td>3</td>\n",
              "      <td>0</td>\n",
              "    </tr>\n",
              "    <tr>\n",
              "      <th>287</th>\n",
              "      <td>0</td>\n",
              "      <td>0</td>\n",
              "      <td>0</td>\n",
              "    </tr>\n",
              "    <tr>\n",
              "      <th>446</th>\n",
              "      <td>0</td>\n",
              "      <td>3</td>\n",
              "      <td>0</td>\n",
              "    </tr>\n",
              "    <tr>\n",
              "      <th>...</th>\n",
              "      <td>...</td>\n",
              "      <td>...</td>\n",
              "      <td>...</td>\n",
              "    </tr>\n",
              "    <tr>\n",
              "      <th>33</th>\n",
              "      <td>0</td>\n",
              "      <td>2</td>\n",
              "      <td>1</td>\n",
              "    </tr>\n",
              "    <tr>\n",
              "      <th>149</th>\n",
              "      <td>1</td>\n",
              "      <td>2</td>\n",
              "      <td>0</td>\n",
              "    </tr>\n",
              "    <tr>\n",
              "      <th>531</th>\n",
              "      <td>0</td>\n",
              "      <td>3</td>\n",
              "      <td>0</td>\n",
              "    </tr>\n",
              "    <tr>\n",
              "      <th>441</th>\n",
              "      <td>0</td>\n",
              "      <td>3</td>\n",
              "      <td>1</td>\n",
              "    </tr>\n",
              "    <tr>\n",
              "      <th>239</th>\n",
              "      <td>1</td>\n",
              "      <td>4</td>\n",
              "      <td>0</td>\n",
              "    </tr>\n",
              "  </tbody>\n",
              "</table>\n",
              "<p>107 rows × 3 columns</p>\n",
              "</div>\n",
              "      <button class=\"colab-df-convert\" onclick=\"convertToInteractive('df-06b63d4a-1ed5-43ff-bfc0-6c61d2e19d01')\"\n",
              "              title=\"Convert this dataframe to an interactive table.\"\n",
              "              style=\"display:none;\">\n",
              "        \n",
              "  <svg xmlns=\"http://www.w3.org/2000/svg\" height=\"24px\"viewBox=\"0 0 24 24\"\n",
              "       width=\"24px\">\n",
              "    <path d=\"M0 0h24v24H0V0z\" fill=\"none\"/>\n",
              "    <path d=\"M18.56 5.44l.94 2.06.94-2.06 2.06-.94-2.06-.94-.94-2.06-.94 2.06-2.06.94zm-11 1L8.5 8.5l.94-2.06 2.06-.94-2.06-.94L8.5 2.5l-.94 2.06-2.06.94zm10 10l.94 2.06.94-2.06 2.06-.94-2.06-.94-.94-2.06-.94 2.06-2.06.94z\"/><path d=\"M17.41 7.96l-1.37-1.37c-.4-.4-.92-.59-1.43-.59-.52 0-1.04.2-1.43.59L10.3 9.45l-7.72 7.72c-.78.78-.78 2.05 0 2.83L4 21.41c.39.39.9.59 1.41.59.51 0 1.02-.2 1.41-.59l7.78-7.78 2.81-2.81c.8-.78.8-2.07 0-2.86zM5.41 20L4 18.59l7.72-7.72 1.47 1.35L5.41 20z\"/>\n",
              "  </svg>\n",
              "      </button>\n",
              "      \n",
              "  <style>\n",
              "    .colab-df-container {\n",
              "      display:flex;\n",
              "      flex-wrap:wrap;\n",
              "      gap: 12px;\n",
              "    }\n",
              "\n",
              "    .colab-df-convert {\n",
              "      background-color: #E8F0FE;\n",
              "      border: none;\n",
              "      border-radius: 50%;\n",
              "      cursor: pointer;\n",
              "      display: none;\n",
              "      fill: #1967D2;\n",
              "      height: 32px;\n",
              "      padding: 0 0 0 0;\n",
              "      width: 32px;\n",
              "    }\n",
              "\n",
              "    .colab-df-convert:hover {\n",
              "      background-color: #E2EBFA;\n",
              "      box-shadow: 0px 1px 2px rgba(60, 64, 67, 0.3), 0px 1px 3px 1px rgba(60, 64, 67, 0.15);\n",
              "      fill: #174EA6;\n",
              "    }\n",
              "\n",
              "    [theme=dark] .colab-df-convert {\n",
              "      background-color: #3B4455;\n",
              "      fill: #D2E3FC;\n",
              "    }\n",
              "\n",
              "    [theme=dark] .colab-df-convert:hover {\n",
              "      background-color: #434B5C;\n",
              "      box-shadow: 0px 1px 3px 1px rgba(0, 0, 0, 0.15);\n",
              "      filter: drop-shadow(0px 1px 2px rgba(0, 0, 0, 0.3));\n",
              "      fill: #FFFFFF;\n",
              "    }\n",
              "  </style>\n",
              "\n",
              "      <script>\n",
              "        const buttonEl =\n",
              "          document.querySelector('#df-06b63d4a-1ed5-43ff-bfc0-6c61d2e19d01 button.colab-df-convert');\n",
              "        buttonEl.style.display =\n",
              "          google.colab.kernel.accessAllowed ? 'block' : 'none';\n",
              "\n",
              "        async function convertToInteractive(key) {\n",
              "          const element = document.querySelector('#df-06b63d4a-1ed5-43ff-bfc0-6c61d2e19d01');\n",
              "          const dataTable =\n",
              "            await google.colab.kernel.invokeFunction('convertToInteractive',\n",
              "                                                     [key], {});\n",
              "          if (!dataTable) return;\n",
              "\n",
              "          const docLinkHtml = 'Like what you see? Visit the ' +\n",
              "            '<a target=\"_blank\" href=https://colab.research.google.com/notebooks/data_table.ipynb>data table notebook</a>'\n",
              "            + ' to learn more about interactive tables.';\n",
              "          element.innerHTML = '';\n",
              "          dataTable['output_type'] = 'display_data';\n",
              "          await google.colab.output.renderOutput(dataTable, element);\n",
              "          const docLink = document.createElement('div');\n",
              "          docLink.innerHTML = docLinkHtml;\n",
              "          element.appendChild(docLink);\n",
              "        }\n",
              "      </script>\n",
              "    </div>\n",
              "  </div>\n",
              "  "
            ]
          },
          "metadata": {},
          "execution_count": 487
        }
      ]
    },
    {
      "cell_type": "code",
      "source": [
        "y_test"
      ],
      "metadata": {
        "colab": {
          "base_uri": "https://localhost:8080/"
        },
        "id": "Dpbt_Ft3ueyJ",
        "outputId": "8d686067-3e28-47ac-d4f7-8a8ab24f8315"
      },
      "execution_count": null,
      "outputs": [
        {
          "output_type": "execute_result",
          "data": {
            "text/plain": [
              "300    0\n",
              "351    0\n",
              "479    1\n",
              "287    1\n",
              "446    0\n",
              "      ..\n",
              "33     0\n",
              "149    0\n",
              "531    1\n",
              "441    1\n",
              "239    1\n",
              "Name: WAGE, Length: 107, dtype: category\n",
              "Categories (2, object): ['0' < '1']"
            ]
          },
          "metadata": {},
          "execution_count": 488
        }
      ]
    },
    {
      "cell_type": "markdown",
      "source": [
        "### Logistic Regression in Python\n",
        "\n",
        "Our first model we apply is a simple Logistic Regression. As we focus on prediction we don't care about coefficients as we normally would know it from R. We use our train- and testset to fit our classifier on and afterwards use our trained model to predict on an out-of-sample. We can evaluate our results with a widely-used metric called F1 Score."
      ],
      "metadata": {
        "id": "q7Wpguj0nTv_"
      }
    },
    {
      "cell_type": "code",
      "source": [
        "from sklearn.linear_model import LogisticRegression\n",
        "from sklearn.metrics import f1_score\n",
        "\n",
        "# Train classifier with default parameters\n",
        "clf = LogisticRegression(random_state=20230201)\n",
        "clf.fit(X_train, y_train) # adapt the logistic regression algorithm to our training data\n",
        "\n",
        "# Predict on test set\n",
        "y_pred = clf.predict(X_test) # do an out-of-sample prediction on the test set using our trained classifier\n",
        "\n",
        "# Print results\n",
        "print(\"F1 score:\", f1_score(y_test, y_pred, average=\"weighted\"))"
      ],
      "metadata": {
        "id": "995AMmwLnYdi",
        "colab": {
          "base_uri": "https://localhost:8080/"
        },
        "outputId": "c7264797-a768-4152-c77d-0188fb2a02aa"
      },
      "execution_count": null,
      "outputs": [
        {
          "output_type": "stream",
          "name": "stdout",
          "text": [
            "F1 score: 0.6115972766717637\n"
          ]
        }
      ]
    },
    {
      "cell_type": "markdown",
      "source": [
        "This is our first result on a Logistic Regression using default parameters. The following function gives us this default setting:"
      ],
      "metadata": {
        "id": "U8bAJtrAeZ_u"
      }
    },
    {
      "cell_type": "code",
      "source": [
        "LogisticRegression().get_params().keys()"
      ],
      "metadata": {
        "colab": {
          "base_uri": "https://localhost:8080/"
        },
        "id": "cMoH5seEI81x",
        "outputId": "bf6bb0c7-e218-4c97-e11b-5e6cace75f11"
      },
      "execution_count": null,
      "outputs": [
        {
          "output_type": "execute_result",
          "data": {
            "text/plain": [
              "dict_keys(['C', 'class_weight', 'dual', 'fit_intercept', 'intercept_scaling', 'l1_ratio', 'max_iter', 'multi_class', 'n_jobs', 'penalty', 'random_state', 'solver', 'tol', 'verbose', 'warm_start'])"
            ]
          },
          "metadata": {},
          "execution_count": 490
        }
      ]
    },
    {
      "cell_type": "markdown",
      "source": [
        "As we want to optimize our model to get better results, we should always try to tune its so-called hyperparameters. We define a range of suitable parameters and run a grid search to estimate the best parameter on our data."
      ],
      "metadata": {
        "id": "4RzS66eIekCo"
      }
    },
    {
      "cell_type": "code",
      "source": [
        "import numpy as np\n",
        "\n",
        "# Generate random integers\n",
        "C = list(set(np.logspace(1, 20, base=1.5, dtype='int')))\n",
        "\n",
        "param_grid = [\n",
        "  {'C': C,\n",
        "   'class_weight': [\"balanced\", None],\n",
        "   'solver': ['newton-cg', 'lbfgs', 'liblinear']\n",
        "   }]"
      ],
      "metadata": {
        "id": "BI-VKcWPHOkX"
      },
      "execution_count": null,
      "outputs": []
    },
    {
      "cell_type": "code",
      "source": [
        "# Set up Random Search\n",
        "grid = RandomizedSearchCV(LogisticRegression(random_state=20230201), \n",
        "                          param_distributions = param_grid, \n",
        "                          n_iter=100, \n",
        "                          verbose=1,\n",
        "                          cv=5,\n",
        "                          random_state=20230201, \n",
        "                          refit=True,\n",
        "                          n_jobs=-1)\n",
        "\n",
        "# Save results in dataframe\n",
        "results = grid.fit(X_train, y_train)\n",
        "\n",
        "# Print best params\n",
        "print(grid.best_params_)"
      ],
      "metadata": {
        "id": "lGlAC16jd7aq",
        "colab": {
          "base_uri": "https://localhost:8080/"
        },
        "outputId": "93f3bf79-07be-4c79-fb2e-84e9533ace85"
      },
      "execution_count": null,
      "outputs": [
        {
          "output_type": "stream",
          "name": "stdout",
          "text": [
            "Fitting 5 folds for each of 100 candidates, totalling 500 fits\n",
            "{'solver': 'lbfgs', 'class_weight': None, 'C': 6}\n"
          ]
        }
      ]
    },
    {
      "cell_type": "markdown",
      "source": [
        "Using the best model fitted on the hyperparameters above we can do another prediction on the unseen testset and calculate our new F1 Score:"
      ],
      "metadata": {
        "id": "bDKlXMaue76t"
      }
    },
    {
      "cell_type": "code",
      "source": [
        "# Predict with best model\n",
        "y_pred = results.best_estimator_.predict(X_test) # do an out-of-sample prediction on the test set using our tuned classifier\n",
        "\n",
        "# Print results\n",
        "print(\"F1 score:\", f1_score(y_test, y_pred, average=\"weighted\"))"
      ],
      "metadata": {
        "id": "UVWM0vsPeUvK",
        "colab": {
          "base_uri": "https://localhost:8080/"
        },
        "outputId": "67af6222-c692-46a2-e6e3-49698561ae38"
      },
      "execution_count": null,
      "outputs": [
        {
          "output_type": "stream",
          "name": "stdout",
          "text": [
            "F1 score: 0.6115972766717637\n"
          ]
        }
      ]
    },
    {
      "cell_type": "markdown",
      "source": [
        "It seems that this did not increase our performance. There are cases were the default parameters are already the best choice - but there exist also cases were tuning produces significant better models!"
      ],
      "metadata": {
        "id": "qUihxbp6fEtE"
      }
    },
    {
      "cell_type": "markdown",
      "source": [
        "### Random Forest in Python\n",
        "\n",
        "When applying machine learning we always should try out different models. Hence, we use a Random Forest model as a second classifier. You already know the upcoming steps:\n",
        "\n",
        "\n",
        "1.   Select and initialize the model\n",
        "2.   Check performance of the model with default hyperparameters\n",
        "3.   Define Hyperparameter ranges\n",
        "4.   Run Grid Search\n",
        "5.   Compare results of both models (tuned and untuned)"
      ],
      "metadata": {
        "id": "ZyKQEvqblrOk"
      }
    },
    {
      "cell_type": "code",
      "source": [
        "from sklearn.ensemble import RandomForestClassifier\n",
        "from sklearn.metrics import f1_score\n",
        "\n",
        "# Train classifier with default parameters\n",
        "clf = RandomForestClassifier(random_state=20220725)\n",
        "clf.fit(X_train, y_train) # adapt the random forest algorithm to our training data\n",
        "\n",
        "# Predict on test set\n",
        "y_pred = clf.predict(X_test) # do an out-of-sample prediction on the test set using our trained classifier\n",
        "\n",
        "# Print results\n",
        "print(\"F1 score:\", f1_score(y_test, y_pred, average=\"weighted\"))"
      ],
      "metadata": {
        "colab": {
          "base_uri": "https://localhost:8080/"
        },
        "id": "iKCr4Ylb8e1b",
        "outputId": "e920b909-a406-4f27-cd94-a222f59f9d51"
      },
      "execution_count": null,
      "outputs": [
        {
          "output_type": "stream",
          "name": "stdout",
          "text": [
            "F1 score: 0.6716753772646388\n"
          ]
        }
      ]
    },
    {
      "cell_type": "code",
      "source": [
        "import random as random\n",
        "import pandas as pd\n",
        "\n",
        "# Generate random integers\n",
        "n_est = []\n",
        "[n_est.append(random.randint(1, 1000)) for i in range(0, 50)]\n",
        "print(n_est)\n",
        "\n",
        "max_depth = []\n",
        "[max_depth.append(random.randint(1, 100)) for i in range(0, 50)]\n",
        "print(max_depth)\n",
        "\n",
        "param_grid = [\n",
        "  {'bootstrap': [True, False],\n",
        "  'max_features': ['auto', 'sqrt'],\n",
        "   'min_samples_leaf': [1, 2, 4],\n",
        "   'min_samples_split': [2, 5, 10],\n",
        "   'n_estimators': list(set(n_est)),\n",
        "   'criterion': [\"gini\", \"entropy\"],\n",
        "   'max_depth': list(set(max_depth)) + [None],\n",
        "   'class_weight': [\"balanced\", None]}\n",
        "  ]"
      ],
      "metadata": {
        "colab": {
          "base_uri": "https://localhost:8080/"
        },
        "id": "9u4lu2zk858o",
        "outputId": "8f7be486-7425-4d0b-d145-794bbf05d0da"
      },
      "execution_count": null,
      "outputs": [
        {
          "output_type": "stream",
          "name": "stdout",
          "text": [
            "[497, 679, 132, 295, 336, 961, 810, 153, 245, 48, 994, 370, 333, 844, 644, 611, 958, 357, 538, 411, 235, 9, 291, 221, 292, 526, 593, 84, 775, 366, 521, 60, 443, 512, 896, 770, 70, 284, 685, 789, 526, 583, 454, 192, 707, 987, 139, 958, 930, 814]\n",
            "[63, 79, 38, 13, 50, 9, 9, 49, 66, 81, 30, 44, 64, 41, 33, 57, 95, 98, 66, 53, 8, 94, 42, 99, 45, 73, 17, 47, 35, 75, 32, 96, 60, 85, 31, 51, 88, 11, 26, 7, 86, 93, 23, 83, 41, 24, 5, 65, 98, 90]\n"
          ]
        }
      ]
    },
    {
      "cell_type": "code",
      "source": [
        "# Set up Random Search\n",
        "grid = RandomizedSearchCV(RandomForestClassifier(), \n",
        "                          param_distributions = param_grid, \n",
        "                          n_iter=100, \n",
        "                          verbose=1,\n",
        "                          cv=5,\n",
        "                          random_state=20230201, \n",
        "                          refit=True,\n",
        "                          n_jobs=-1)\n",
        "\n",
        "# Save results in dataframe\n",
        "results = grid.fit(X_train, y_train)\n",
        "\n",
        "# Print best params\n",
        "print(grid.best_params_)"
      ],
      "metadata": {
        "colab": {
          "base_uri": "https://localhost:8080/"
        },
        "id": "cV5BB05rG7LT",
        "outputId": "7cdd2a5f-d2f3-4d38-f3c4-b3b9a19d4261"
      },
      "execution_count": null,
      "outputs": [
        {
          "output_type": "stream",
          "name": "stdout",
          "text": [
            "Fitting 5 folds for each of 100 candidates, totalling 500 fits\n",
            "{'n_estimators': 48, 'min_samples_split': 10, 'min_samples_leaf': 4, 'max_features': 'sqrt', 'max_depth': 96, 'criterion': 'entropy', 'class_weight': 'balanced', 'bootstrap': False}\n"
          ]
        }
      ]
    },
    {
      "cell_type": "code",
      "source": [
        "# Predict with best model\n",
        "y_pred = results.best_estimator_.predict(X_test)\n",
        "\n",
        "# Print results\n",
        "print(\"F1 score:\", f1_score(y_test, y_pred, average=\"weighted\"))"
      ],
      "metadata": {
        "colab": {
          "base_uri": "https://localhost:8080/"
        },
        "id": "ViJXcvJr9lip",
        "outputId": "b8fe3b97-78d0-4289-c202-0d86fda01805"
      },
      "execution_count": null,
      "outputs": [
        {
          "output_type": "stream",
          "name": "stdout",
          "text": [
            "F1 score: 0.7372154325425354\n"
          ]
        }
      ]
    },
    {
      "cell_type": "markdown",
      "source": [
        "The F1 Scores of both Random Forest models highlight two main takeaways: First, the hyperparameter tuning was quite fruitul for the Random Forest case. Second, a Random Forest seems to be more useful for prediction on this dataset than a Logistic Regression.\n",
        "\n",
        "As we stick to the Random Forest, lets check what the importance of each feature for the model is. This can easily be achieved as follows:"
      ],
      "metadata": {
        "id": "YoAD-uKvfzAZ"
      }
    },
    {
      "cell_type": "code",
      "source": [
        "pd.DataFrame({\"Feature\": X_test.columns,\n",
        "              \"Importance\": results.best_estimator_.feature_importances_}).sort_values('Importance', ascending=False)"
      ],
      "metadata": {
        "colab": {
          "base_uri": "https://localhost:8080/"
        },
        "id": "q3IO6oxqVr4T",
        "outputId": "c7c43c6a-07a5-4000-b669-2bc3c464a09f"
      },
      "execution_count": null,
      "outputs": [
        {
          "output_type": "execute_result",
          "data": {
            "text/plain": [
              "      Feature  Importance\n",
              "1  OCCUPATION    0.777551\n",
              "0         SEX    0.115975\n",
              "2        MARR    0.106474"
            ],
            "text/html": [
              "\n",
              "  <div id=\"df-251cf4dc-093d-448a-8b3a-5586e804e222\">\n",
              "    <div class=\"colab-df-container\">\n",
              "      <div>\n",
              "<style scoped>\n",
              "    .dataframe tbody tr th:only-of-type {\n",
              "        vertical-align: middle;\n",
              "    }\n",
              "\n",
              "    .dataframe tbody tr th {\n",
              "        vertical-align: top;\n",
              "    }\n",
              "\n",
              "    .dataframe thead th {\n",
              "        text-align: right;\n",
              "    }\n",
              "</style>\n",
              "<table border=\"1\" class=\"dataframe\">\n",
              "  <thead>\n",
              "    <tr style=\"text-align: right;\">\n",
              "      <th></th>\n",
              "      <th>Feature</th>\n",
              "      <th>Importance</th>\n",
              "    </tr>\n",
              "  </thead>\n",
              "  <tbody>\n",
              "    <tr>\n",
              "      <th>1</th>\n",
              "      <td>OCCUPATION</td>\n",
              "      <td>0.777551</td>\n",
              "    </tr>\n",
              "    <tr>\n",
              "      <th>0</th>\n",
              "      <td>SEX</td>\n",
              "      <td>0.115975</td>\n",
              "    </tr>\n",
              "    <tr>\n",
              "      <th>2</th>\n",
              "      <td>MARR</td>\n",
              "      <td>0.106474</td>\n",
              "    </tr>\n",
              "  </tbody>\n",
              "</table>\n",
              "</div>\n",
              "      <button class=\"colab-df-convert\" onclick=\"convertToInteractive('df-251cf4dc-093d-448a-8b3a-5586e804e222')\"\n",
              "              title=\"Convert this dataframe to an interactive table.\"\n",
              "              style=\"display:none;\">\n",
              "        \n",
              "  <svg xmlns=\"http://www.w3.org/2000/svg\" height=\"24px\"viewBox=\"0 0 24 24\"\n",
              "       width=\"24px\">\n",
              "    <path d=\"M0 0h24v24H0V0z\" fill=\"none\"/>\n",
              "    <path d=\"M18.56 5.44l.94 2.06.94-2.06 2.06-.94-2.06-.94-.94-2.06-.94 2.06-2.06.94zm-11 1L8.5 8.5l.94-2.06 2.06-.94-2.06-.94L8.5 2.5l-.94 2.06-2.06.94zm10 10l.94 2.06.94-2.06 2.06-.94-2.06-.94-.94-2.06-.94 2.06-2.06.94z\"/><path d=\"M17.41 7.96l-1.37-1.37c-.4-.4-.92-.59-1.43-.59-.52 0-1.04.2-1.43.59L10.3 9.45l-7.72 7.72c-.78.78-.78 2.05 0 2.83L4 21.41c.39.39.9.59 1.41.59.51 0 1.02-.2 1.41-.59l7.78-7.78 2.81-2.81c.8-.78.8-2.07 0-2.86zM5.41 20L4 18.59l7.72-7.72 1.47 1.35L5.41 20z\"/>\n",
              "  </svg>\n",
              "      </button>\n",
              "      \n",
              "  <style>\n",
              "    .colab-df-container {\n",
              "      display:flex;\n",
              "      flex-wrap:wrap;\n",
              "      gap: 12px;\n",
              "    }\n",
              "\n",
              "    .colab-df-convert {\n",
              "      background-color: #E8F0FE;\n",
              "      border: none;\n",
              "      border-radius: 50%;\n",
              "      cursor: pointer;\n",
              "      display: none;\n",
              "      fill: #1967D2;\n",
              "      height: 32px;\n",
              "      padding: 0 0 0 0;\n",
              "      width: 32px;\n",
              "    }\n",
              "\n",
              "    .colab-df-convert:hover {\n",
              "      background-color: #E2EBFA;\n",
              "      box-shadow: 0px 1px 2px rgba(60, 64, 67, 0.3), 0px 1px 3px 1px rgba(60, 64, 67, 0.15);\n",
              "      fill: #174EA6;\n",
              "    }\n",
              "\n",
              "    [theme=dark] .colab-df-convert {\n",
              "      background-color: #3B4455;\n",
              "      fill: #D2E3FC;\n",
              "    }\n",
              "\n",
              "    [theme=dark] .colab-df-convert:hover {\n",
              "      background-color: #434B5C;\n",
              "      box-shadow: 0px 1px 3px 1px rgba(0, 0, 0, 0.15);\n",
              "      filter: drop-shadow(0px 1px 2px rgba(0, 0, 0, 0.3));\n",
              "      fill: #FFFFFF;\n",
              "    }\n",
              "  </style>\n",
              "\n",
              "      <script>\n",
              "        const buttonEl =\n",
              "          document.querySelector('#df-251cf4dc-093d-448a-8b3a-5586e804e222 button.colab-df-convert');\n",
              "        buttonEl.style.display =\n",
              "          google.colab.kernel.accessAllowed ? 'block' : 'none';\n",
              "\n",
              "        async function convertToInteractive(key) {\n",
              "          const element = document.querySelector('#df-251cf4dc-093d-448a-8b3a-5586e804e222');\n",
              "          const dataTable =\n",
              "            await google.colab.kernel.invokeFunction('convertToInteractive',\n",
              "                                                     [key], {});\n",
              "          if (!dataTable) return;\n",
              "\n",
              "          const docLinkHtml = 'Like what you see? Visit the ' +\n",
              "            '<a target=\"_blank\" href=https://colab.research.google.com/notebooks/data_table.ipynb>data table notebook</a>'\n",
              "            + ' to learn more about interactive tables.';\n",
              "          element.innerHTML = '';\n",
              "          dataTable['output_type'] = 'display_data';\n",
              "          await google.colab.output.renderOutput(dataTable, element);\n",
              "          const docLink = document.createElement('div');\n",
              "          docLink.innerHTML = docLinkHtml;\n",
              "          element.appendChild(docLink);\n",
              "        }\n",
              "      </script>\n",
              "    </div>\n",
              "  </div>\n",
              "  "
            ]
          },
          "metadata": {},
          "execution_count": 498
        }
      ]
    },
    {
      "cell_type": "markdown",
      "source": [
        "Occupation has the highest importance, followed by sex and whether someone is married or not. But you should be cautious: This cannot be directly used for causal inference as you probably would tend to do with a OLS regression model in R."
      ],
      "metadata": {
        "id": "EXK7jAwBgaX4"
      }
    },
    {
      "cell_type": "markdown",
      "source": [
        "### Conclusion\n",
        "\n",
        "This notebook shows how to apply frequently used packages and their function on a familiar data environment. We focused on some visualisation, pre-precessing of data and different classification algorithms in Python.\n",
        "\n",
        "Let's conclude with a short outlook:\n",
        "1. As you already know from similar packages in R such as dplyr or purrr, there are many more functionalities coming with `pandas`. A useful cheatsheet of the package can be found here: [Pandas Cheatsheet](https://pandas.pydata.org/Pandas_Cheat_Sheet.pdf)\n",
        "2. `scikit-learn` offers many more algorithms and ways to evaulate and configure regression and classification models. A great overview can be found on their Website: [How to choose the right estimator?](https://scikit-learn.org/stable/tutorial/machine_learning_map/index.html)\n",
        "3. Beyond `scikit-learn` you should also consider `TensorFlow` or `PyTorch` for applying Deep Learning algorithms in Python. For the first you find a bunch of tutorials on their official [Website](https://www.tensorflow.org/tutorials), the latter comes with a great [YouTube Series](https://pytorch.org/tutorials/beginner/introyt.html) and hands-on Google Colab Notebooks\n",
        "4. Most important: Python is not only about Machine Learning. It can do much more from creating fancy dashboards using [`Plotly`](https://plotly.com/dash) to sophisicated analysis based on extremley large (unstructured) data sources (e.g. with [`Dask`](https://www.dask.org/) or [`PySpark`](https://spark.apache.org/docs/latest/api/python/))\n",
        "\n",
        "Thank you very much for joining Day 2 of the Python for Social Scientists Workshop!"
      ],
      "metadata": {
        "id": "KHYL6TcYndPO"
      }
    }
  ]
}